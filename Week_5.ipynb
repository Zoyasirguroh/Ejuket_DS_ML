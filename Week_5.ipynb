{
  "nbformat": 4,
  "nbformat_minor": 0,
  "metadata": {
    "colab": {
      "provenance": [],
      "authorship_tag": "ABX9TyP5Xn2q/klyaAlS+c/mMlgX",
      "include_colab_link": true
    },
    "kernelspec": {
      "name": "python3",
      "display_name": "Python 3"
    },
    "language_info": {
      "name": "python"
    }
  },
  "cells": [
    {
      "cell_type": "markdown",
      "metadata": {
        "id": "view-in-github",
        "colab_type": "text"
      },
      "source": [
        "<a href=\"https://colab.research.google.com/github/Zoyasirguroh/Ejuket_DS_ML/blob/main/Week_5.ipynb\" target=\"_parent\"><img src=\"https://colab.research.google.com/assets/colab-badge.svg\" alt=\"Open In Colab\"/></a>"
      ]
    },
    {
      "cell_type": "code",
      "source": [
        "# Hypothesis Testing Session 1: Introduction\n",
        "\n",
        "# Import necessary libraries\n",
        "import scipy.stats as stats\n",
        "import numpy as np"
      ],
      "metadata": {
        "id": "q2Q1Owdb_kpf"
      },
      "execution_count": null,
      "outputs": []
    },
    {
      "cell_type": "code",
      "source": [
        "\n",
        "\n",
        "\"\"\"\n",
        "## Warm-Up: Relatable Scenario\n",
        "Scenario: Testing if a new cafe recipe improves customer satisfaction.\n",
        "Imagine you own a cafe and recently introduced a new recipe for cappuccino. You claim it improves customer satisfaction, but how can you prove it?\n",
        "Hypothesis testing will help us determine if the observed improvement is statistically significant.\n",
        "\"\"\"\n",
        "\n",
        "print(\"Warm-Up Scenario:\")\n",
        "print(\"You own a cafe and want to test if a new recipe improves customer satisfaction.\")\n",
        "\n"
      ],
      "metadata": {
        "id": "44cc_Zh4_rf5"
      },
      "execution_count": null,
      "outputs": []
    },
    {
      "cell_type": "code",
      "source": [
        "# Key Concepts\n",
        "\"\"\"\n",
        "## What is Hypothesis Testing?\n",
        "Hypothesis testing is a statistical method used to decide whether there is enough evidence to reject a claim about a population (null hypothesis) based on sample data.\n",
        "It allows us to make decisions using data rather than guesses.\n",
        "\"\"\"\n",
        "\n",
        "print(\"\\nKey Concepts:\")\n",
        "print(\"1. Hypothesis testing helps make decisions using data rather than guesses.\")\n"
      ],
      "metadata": {
        "id": "Cy4oYr8-_wa4"
      },
      "execution_count": null,
      "outputs": []
    },
    {
      "cell_type": "code",
      "source": [
        "\n",
        "# Null and Alternative Hypotheses\n",
        "\"\"\"\n",
        "### Null and Alternative Hypotheses:\n",
        "- Null Hypothesis (H0): Represents the current state or no effect. Example: \"The new recipe does not improve satisfaction.\"\n",
        "- Alternative Hypothesis (Ha): Represents the claim we want to test. Example: \"The new recipe improves satisfaction.\"\n",
        "\"\"\"\n",
        "\n",
        "H0 = \"The new recipe does not improve satisfaction.\"\n",
        "Ha = \"The new recipe improves satisfaction.\"\n",
        "print(\"\\nHypotheses:\")\n",
        "print(f\"Null Hypothesis (H0): {H0}\")\n",
        "print(f\"Alternative Hypothesis (Ha): {Ha}\")"
      ],
      "metadata": {
        "id": "ssPJ0Ogb_zgU"
      },
      "execution_count": null,
      "outputs": []
    },
    {
      "cell_type": "code",
      "source": [
        "# p-Value and Significance Level\n",
        "\"\"\"\n",
        "### p-Value:\n",
        "- The p-value represents the probability of observing the data (or something more extreme) if the null hypothesis (H0) is true.\n",
        "- A smaller p-value indicates stronger evidence against H0.\n",
        "\n",
        "### Significance Level (alpha):\n",
        "- The threshold for rejecting H0, often set at 0.05.\n",
        "- If p-value <= alpha: Reject H0.\n",
        "- If p-value > alpha: Fail to reject H0.\n",
        "\"\"\"\n",
        "\n",
        "alpha = 0.05\n",
        "print(f\"\\nSignificance Level (alpha): {alpha}\")\n"
      ],
      "metadata": {
        "id": "wSPH3h_E_3et"
      },
      "execution_count": null,
      "outputs": []
    },
    {
      "cell_type": "code",
      "source": [
        "\n",
        "# Step-by-Step Process\n",
        "\"\"\"\n",
        "## Steps in Hypothesis Testing:\n",
        "1. Formulate Hypotheses: Define H0 and Ha.\n",
        "2. Set Significance Level: Choose an appropriate alpha value (e.g., 0.05).\n",
        "3. Collect Data: Gather sample data.\n",
        "4. Choose a Statistical Test: Select based on data type and study design.\n",
        "5. Perform the Test and Calculate p-Value.\n",
        "6. Make a Decision: Compare p-value to alpha.\n",
        "\"\"\"\n",
        "\n",
        "print(\"\\nSteps in Hypothesis Testing:\")\n",
        "steps = [\n",
        "    \"1. Formulate Hypotheses\",\n",
        "    \"2. Set Significance Level\",\n",
        "    \"3. Collect Data\",\n",
        "    \"4. Choose a Statistical Test\",\n",
        "    \"5. Perform the Test and Calculate p-Value\",\n",
        "    \"6. Make a Decision\"\n",
        "]\n",
        "for step in steps:\n",
        "    print(step)"
      ],
      "metadata": {
        "id": "rYVlFqxFACEz"
      },
      "execution_count": null,
      "outputs": []
    },
    {
      "cell_type": "code",
      "source": [
        "\n",
        "# Interactive Example\n",
        "\"\"\"\n",
        "### Interactive Example:\n",
        "You claim that the average satisfaction score for the new recipe is higher than 8. The scores from a sample of 10 customers are:\n",
        "[7.8, 8.1, 8.4, 7.9, 8.5, 8.2, 8.3, 8.7, 7.6, 8.0]\n",
        "\n",
        "We will test:\n",
        "- Null Hypothesis (H0): The average satisfaction score is 8 (mu = 8).\n",
        "- Alternative Hypothesis (Ha): The average satisfaction score is greater than 8 (mu > 8).\n",
        "\"\"\"\n",
        "\n",
        "# Sample data: satisfaction scores for the new recipe\n",
        "data = [7.8, 8.1, 8.4, 7.9, 8.5, 8.2, 8.3, 8.7, 7.6, 8.0]\n",
        "popmean = 8\n",
        "\n",
        "# Performing one-sample t-test\n",
        "t_stat, p_value = stats.ttest_1samp(data, popmean=popmean)\n",
        "\n",
        "print(\"\\nInteractive Example:\")\n",
        "print(f\"Sample Data: {data}\")\n",
        "print(f\"Population Mean (H0): {popmean}\")\n",
        "print(f\"T-statistic: {t_stat:.4f}\")\n",
        "print(f\"P-value: {p_value:.4f}\")\n"
      ],
      "metadata": {
        "id": "kB5IqHe-AF-c"
      },
      "execution_count": null,
      "outputs": []
    },
    {
      "cell_type": "code",
      "execution_count": null,
      "metadata": {
        "id": "6o5ZlmuF84On"
      },
      "outputs": [],
      "source": [
        "\n",
        "\n",
        "# Decision based on p-value\n",
        "if p_value <= alpha:\n",
        "    print(f\"Decision: Reject H0 (The new recipe improves satisfaction)\")\n",
        "else:\n",
        "    print(f\"Decision: Fail to Reject H0 (Insufficient evidence to conclude improvement)\")\n",
        "\n",
        "# Explanation\n",
        "\"\"\"\n",
        "### Explanation of Results:\n",
        "- The t-statistic measures the difference between the sample mean and the population mean in terms of standard errors.\n",
        "- The p-value helps us decide if the observed difference is statistically significant.\n",
        "- If p-value <= alpha (0.05), we reject the null hypothesis and support the alternative hypothesis.\n",
        "\"\"\"\n",
        "\n",
        "print(\"\\nExplanation: The p-value guides our decision to reject or fail to reject the null hypothesis.\")\n",
        "\n",
        "# Summary\n",
        "\"\"\"\n",
        "## Summary:\n",
        "- Hypothesis testing helps make data-driven decisions.\n",
        "- Null and alternative hypotheses form the foundation.\n",
        "- The p-value determines whether to reject or fail to reject H0.\n",
        "\"\"\"\n",
        "summary = [\n",
        "    \"Hypothesis testing helps make data-driven decisions.\",\n",
        "    \"Null and alternative hypotheses are the foundation.\",\n",
        "    \"The p-value determines whether to reject or fail to reject H0.\"\n",
        "]\n",
        "print(\"\\nSummary:\")\n",
        "for point in summary:\n",
        "    print(f\"- {point}\")\n",
        "\n",
        "# End of Session\n",
        "print(\"\\nQ&A Session: Ask your questions!\")\n"
      ]
    },
    {
      "cell_type": "code",
      "source": [
        "# Session 2: Introduction to t-Tests\n",
        "\n",
        "# Goal: Learners will understand the types of t-tests (one-sample, two-sample, and paired),\n",
        "# when to use them, and how to perform them using Python.\n",
        "\n",
        "# 1. Warm-Up: Recap and Motivation\n",
        "# Quick Recap:\n",
        "print(\"Quick Recap:\")\n",
        "print(\"1. A null hypothesis (H0) is a statement of no effect or difference.\")\n",
        "print(\"2. A p-value indicates the probability of observing the data assuming H0 is true.\")\n",
        "\n",
        "# Motivation Example:\n",
        "print(\"Motivation Example:\")\n",
        "print(\"1. One-sample t-test: Is the average weight loss in your program different from 5 kg?\")\n",
        "print(\"2. Two-sample t-test: Is the average weight loss in your program better than the competitor's?\")\n",
        "print(\"3. Paired t-test: Did participants lose weight after completing the program?\")\n",
        "\n",
        "# 2. Key Concepts\n",
        "print(\"\\nKey Concepts:\")\n",
        "print(\"- A t-test compares means and tests whether differences could have occurred by chance.\")\n",
        "print(\"- Types of t-tests: One-sample, Two-sample, and Paired.\")\n",
        "\n",
        "# Assumptions of t-tests\n",
        "print(\"\\nAssumptions:\")\n",
        "print(\"1. Data are approximately normally distributed.\")\n",
        "print(\"2. Groups have similar variances (for two-sample t-tests).\")\n",
        "print(\"3. Observations are independent (except in paired t-tests).\\n\")\n",
        "\n",
        "# Walkthrough Examples\n",
        "\n",
        "# Example A: One-Sample t-Test\n",
        "import scipy.stats as stats\n",
        "\n",
        "print(\"\\n--- Example A: One-Sample t-Test ---\")\n",
        "data = [4.8, 5.2, 5.1, 4.9, 5.3, 4.7, 5.0, 5.1]\n",
        "null_hypothesis_mean = 5  # benchmark value\n",
        "t_stat, p_value = stats.ttest_1samp(data, popmean=null_hypothesis_mean)\n",
        "print(f\"T-statistic: {t_stat}, P-value: {p_value}\")\n",
        "if p_value < 0.05:\n",
        "    print(\"Conclusion: Reject the null hypothesis. The mean is significantly different from 5.\")\n",
        "else:\n",
        "    print(\"Conclusion: Fail to reject the null hypothesis. No significant difference.\")\n",
        "\n",
        "# Example B: Two-Sample t-Test\n",
        "print(\"\\n--- Example B: Two-Sample t-Test ---\")\n",
        "your_program = [5.2, 5.3, 5.1, 5.4, 5.0]\n",
        "competitor_program = [4.8, 4.9, 4.7, 5.0, 4.6]\n",
        "t_stat, p_value = stats.ttest_ind(your_program, competitor_program, alternative='greater')\n",
        "print(f\"T-statistic: {t_stat}, P-value: {p_value}\")\n",
        "if p_value < 0.05:\n",
        "    print(\"Conclusion: Reject the null hypothesis. Your program performs better.\")\n",
        "else:\n",
        "    print(\"Conclusion: Fail to reject the null hypothesis. No significant difference.\")\n",
        "\n",
        "# Example C: Paired t-Test\n",
        "print(\"\\n--- Example C: Paired t-Test ---\")\n",
        "before = [70, 72, 68, 74, 71]\n",
        "after = [68, 70, 66, 72, 69]\n",
        "t_stat, p_value = stats.ttest_rel(before, after, alternative='greater')\n",
        "print(f\"T-statistic: {t_stat}, P-value: {p_value}\")\n",
        "if p_value < 0.05:\n",
        "    print(\"Conclusion: Reject the null hypothesis. Participants lost weight after the program.\")\n",
        "else:\n",
        "    print(\"Conclusion: Fail to reject the null hypothesis. No significant weight loss.\")\n",
        "\n",
        "# Group Activity\n",
        "print(\"\\n--- Group Activity ---\")\n",
        "print(\"Task: Perform a t-test using a dataset provided. Steps:\")\n",
        "print(\"1. Formulate hypotheses.\")\n",
        "print(\"2. Perform the test in Python.\")\n",
        "print(\"3. Present findings and decisions.\")\n",
        "\n",
        "# Summary\n",
        "print(\"\\nSummary:\")\n",
        "print(\"1. t-tests compare means to identify significant differences.\")\n",
        "print(\"2. Choose the appropriate type (one-sample, two-sample, paired) based on the question.\")\n",
        "print(\"3. Python's scipy.stats library makes t-tests straightforward to perform.\")\n"
      ],
      "metadata": {
        "id": "VvYtwcZm-Xkv"
      },
      "execution_count": null,
      "outputs": []
    },
    {
      "cell_type": "code",
      "source": [
        "# Session 3: Introduction to Chi-Square Tests\n",
        "\n",
        "# Goal: Understand the Chi-square test for independence and goodness of fit,\n",
        "# when to use them, and how to perform these tests in Python.\n",
        "\n",
        "### 1. Warm-Up: Relatable Scenario\n",
        "\"\"\"\n",
        "Scenario: Imagine you're studying whether there is a relationship between gender (male/female) and whether people prefer coffee or tea.\n",
        "Question: Does gender influence drink preference (coffee or tea)?\n",
        "Challenge: How do we test if the two variables are related or independent?\n",
        "\n",
        "This introduces the Chi-square test for independence.\n",
        "\"\"\"\n",
        "\n",
        "# 2. Key Concepts\n",
        "## A. What is the Chi-Square Test?\n",
        "\"\"\"\n",
        "The Chi-square test is a statistical method to examine if there’s a significant association between categorical variables.\n",
        "It compares the expected frequency of observations with the actual observed frequency.\n",
        "\n",
        "Types:\n",
        "1. Goodness of Fit: Compares observed vs. expected distribution of a single variable.\n",
        "2. Independence: Checks the relationship between two variables.\n",
        "\"\"\"\n",
        "\n",
        "## Assumptions:\n",
        "\"\"\"\n",
        "1. Data consists of counts/frequencies.\n",
        "2. Observations are independent.\n",
        "3. Expected frequency for each category is at least 5."
      ],
      "metadata": {
        "id": "rdcRJgFxA0JX"
      },
      "execution_count": null,
      "outputs": []
    },
    {
      "cell_type": "code",
      "source": [
        "### Introduction to Z-Tests\n",
        "# Goal: Understand Z-tests, when to use them, and how to perform them using Python.\n",
        "\n",
        "# Import necessary libraries\n",
        "import numpy as np\n",
        "import scipy.stats as stats\n",
        "\n",
        "# --- Section 1: Warm-Up Scenario ---\n",
        "\"\"\"\n",
        "Imagine you're a quality control officer at a factory that produces light bulbs.\n",
        "The company claims their light bulbs last an average of 1,000 hours.\n",
        "You want to test if the actual average lifespan is different from this claimed value based on a sample of 50 bulbs.\n",
        "\n",
        "Question: Is the average lifespan of the light bulbs actually 1,000 hours, or is it significantly different?\n",
        "\"\"\"\n",
        "\n",
        "# --- Section 2: Key Concepts ---\n",
        "\"\"\"\n",
        "What is a Z-Test?\n",
        "- A statistical test used to determine if there is a significant difference between:\n",
        "  1. The sample mean and the population mean (One-Sample Z-Test).\n",
        "  2. The means of two independent samples (Two-Sample Z-Test).\n",
        "\n",
        "Assumptions of Z-Tests:\n",
        "1. The data follows a normal distribution (for large samples).\n",
        "2. The population standard deviation is known.\n",
        "3. The sample size is large enough (n > 30).\n",
        "\"\"\"\n",
        "\n",
        "# --- Section 3: Performing One-Sample Z-Test ---\n",
        "\"\"\"\n",
        "Scenario: Test if the average lifespan of light bulbs is 1,000 hours.\n",
        "Given:\n",
        "- Sample size (n) = 50\n",
        "- Sample mean (̄x) = 1020\n",
        "- Population mean (μ) = 1000\n",
        "- Population standard deviation (σ) = 100\n",
        "\"\"\"\n",
        "\n",
        "# Given data for One-Sample Z-Test\n",
        "sample_mean = 1020\n",
        "population_mean = 1000\n",
        "population_std = 100\n",
        "sample_size = 50\n",
        "\n",
        "# Calculate Z-statistic\n",
        "z_stat = (sample_mean - population_mean) / (population_std / np.sqrt(sample_size))\n",
        "\n",
        "# Calculate p-value (two-tailed test)\n",
        "p_value = 2 * (1 - stats.norm.cdf(abs(z_stat)))\n",
        "\n",
        "# Display results\n",
        "print(f\"One-Sample Z-Test Results:\")\n",
        "print(f\"Z-Statistic: {z_stat}\")\n",
        "print(f\"P-value: {p_value}\")\n",
        "\n",
        "# --- Section 4: Performing Two-Sample Z-Test ---\n",
        "\"\"\"\n",
        "Scenario: Compare the average lifespan of light bulbs from two factories.\n",
        "Factory 1:\n",
        "- Mean (̄x1) = 1020\n",
        "- Standard Deviation (σ1) = 100\n",
        "- Sample Size (n1) = 50\n",
        "\n",
        "Factory 2:\n",
        "- Mean (̄x2) = 1030\n",
        "- Standard Deviation (σ2) = 95\n",
        "- Sample Size (n2) = 60\n",
        "\"\"\"\n",
        "\n",
        "# Given data for Two-Sample Z-Test\n",
        "mean1 = 1020\n",
        "std1 = 100\n",
        "n1 = 50\n",
        "\n",
        "mean2 = 1030\n",
        "std2 = 95\n",
        "n2 = 60\n",
        "\n",
        "# Calculate Z-statistic\n",
        "z_stat_two_sample = (mean1 - mean2) / np.sqrt((std1**2 / n1) + (std2**2 / n2))\n",
        "\n",
        "# Calculate p-value (two-tailed test)\n",
        "p_value_two_sample = 2 * (1 - stats.norm.cdf(abs(z_stat_two_sample)))\n",
        "\n",
        "# Display results\n",
        "print(f\"\\nTwo-Sample Z-Test Results:\")\n",
        "print(f\"Z-Statistic: {z_stat_two_sample}\")\n",
        "print(f\"P-value: {p_value_two_sample}\")\n",
        "\n",
        "# --- Section 5: Group Activity ---\n",
        "\"\"\"\n",
        "Activity:\n",
        "1. Test if the average weight of apples is 150g based on a sample of 100 apples.\n",
        "2. Compare the average heights of two groups of students from different schools.\n",
        "Instructions:\n",
        "- Formulate hypotheses.\n",
        "- Perform the Z-test in Python.\n",
        "- Interpret and present findings.\n",
        "\"\"\"\n",
        "\n",
        "# Placeholder for group activity (students can fill with their own data)\n",
        "def one_sample_z_test(sample_mean, population_mean, population_std, sample_size):\n",
        "    z_stat = (sample_mean - population_mean) / (population_std / np.sqrt(sample_size))\n",
        "    p_value = 2 * (1 - stats.norm.cdf(abs(z_stat)))\n",
        "    return z_stat, p_value\n",
        "\n",
        "def two_sample_z_test(mean1, mean2, std1, std2, n1, n2):\n",
        "    z_stat = (mean1 - mean2) / np.sqrt((std1**2 / n1) + (std2**2 / n2))\n",
        "    p_value = 2 * (1 - stats.norm.cdf(abs(z_stat)))\n",
        "    return z_stat, p_value\n",
        "\n",
        "# Example usage\n",
        "# Uncomment the lines below to test with your own data\n",
        "# z_stat, p_value = one_sample_z_test(150, 155, 10, 100)\n",
        "# print(f\"Z-Statistic: {z_stat}, P-value: {p_value}\")\n",
        "\n",
        "# --- Section 6: Summary ---\n",
        "\"\"\"\n",
        "Key Takeaways:\n",
        "- Z-tests are useful for comparing sample means to population means or between two sample means.\n",
        "- Reject the null hypothesis (H0) if p-value <= 0.05.\n",
        "\"\"\"\n"
      ],
      "metadata": {
        "id": "UChpyJAgBc71"
      },
      "execution_count": null,
      "outputs": []
    },
    {
      "cell_type": "code",
      "source": [
        "import scipy.stats as stats\n",
        "import numpy as np\n",
        "\n",
        "data = [7.8, 8.1, 8.4, 7.9, 8.5, 8.2, 8.3, 8.7, 7.6, 8.0]\n",
        "t_stat, p_value = stats.ttest_1samp(data, popmean=8)\n",
        "print(f\"T-statistic: {t_stat}, P-value: {p_value}\")\n"
      ],
      "metadata": {
        "colab": {
          "base_uri": "https://localhost:8080/"
        },
        "id": "Yx2QhVQseGW8",
        "outputId": "8dd28489-12fd-4ae6-bd7e-5676d220647d"
      },
      "execution_count": 1,
      "outputs": [
        {
          "output_type": "stream",
          "name": "stdout",
          "text": [
            "T-statistic: 1.4055638569974578, P-value: 0.19342205960333114\n"
          ]
        }
      ]
    },
    {
      "cell_type": "code",
      "source": [
        "import scipy.stats as stats\n",
        "\n",
        "# Sample data\n",
        "before = [310, 320, 305, 315, 300, 325, 330, 340]\n",
        "after = [300, 315, 295, 310, 290, 315, 320, 330]\n",
        "\n",
        "# Set the significance level (alpha)\n",
        "alpha = 0.05\n",
        "\n",
        "# Perform the paired t-test\n",
        "t_stat, p_value = stats.ttest_rel(before, after)\n",
        "\n",
        "# Print the results\n",
        "print(\"t-statistic:\", t_stat)\n",
        "print(\"p-value:\", p_value)\n",
        "\n",
        "# Compare p-value with alpha to make a decision\n",
        "if p_value < alpha:\n",
        "    print(\"Reject the null hypothesis. The diet improves performance.\")\n",
        "else:\n",
        "    print(\"Fail to reject the null hypothesis. There is no significant difference in performance before and after the diet.\")"
      ],
      "metadata": {
        "colab": {
          "base_uri": "https://localhost:8080/"
        },
        "id": "CuoI848em6TD",
        "outputId": "1246f4e0-feb9-4239-e564-febfed4bc53d"
      },
      "execution_count": 4,
      "outputs": [
        {
          "output_type": "stream",
          "name": "stdout",
          "text": [
            "t-statistic: 10.692676621563628\n",
            "p-value: 1.3735119173347963e-05\n",
            "Reject the null hypothesis. The diet improves performance.\n"
          ]
        }
      ]
    },
    {
      "cell_type": "code",
      "source": [
        "import numpy as np\n",
        "from scipy import stats\n",
        "\n",
        "# Given data\n",
        "scores = np.array([70, 74, 78, 65, 80, 72, 68, 77, 73, 69])\n",
        "\n",
        "# Hypothesis test\n",
        "# Null hypothesis: The average score is 75\n",
        "# Alternative hypothesis: The average score is different from 75\n",
        "\n",
        "t_statistic, p_value = stats.ttest_1samp(scores, 75)\n",
        "\n",
        "# Display results\n",
        "print(f\"T-statistic: {t_statistic}\")\n",
        "print(f\"P-value: {p_value}\")\n",
        "\n",
        "# Decision at 0.05 significance level\n",
        "if p_value < 0.05:\n",
        "    print(\"Reject the null hypothesis: The average score differs from 75.\")\n",
        "else:\n",
        "    print(\"Fail to reject the null hypothesis: The average score does not differ from 75.\")\n"
      ],
      "metadata": {
        "colab": {
          "base_uri": "https://localhost:8080/"
        },
        "id": "PR4oGO4sntFw",
        "outputId": "31ca7796-77f6-4681-fa4a-8f3701f50f2d"
      },
      "execution_count": 5,
      "outputs": [
        {
          "output_type": "stream",
          "name": "stdout",
          "text": [
            "T-statistic: -1.5925462387337155\n",
            "P-value: 0.14572598114293872\n",
            "Fail to reject the null hypothesis: The average score does not differ from 75.\n"
          ]
        }
      ]
    },
    {
      "cell_type": "code",
      "source": [
        "p_value <= 0.05"
      ],
      "metadata": {
        "colab": {
          "base_uri": "https://localhost:8080/"
        },
        "id": "hMhfu89Leaz7",
        "outputId": "ceb18ab4-0f54-4562-e9b1-364127a028ae"
      },
      "execution_count": 3,
      "outputs": [
        {
          "output_type": "execute_result",
          "data": {
            "text/plain": [
              "False"
            ]
          },
          "metadata": {},
          "execution_count": 3
        }
      ]
    },
    {
      "cell_type": "markdown",
      "source": [],
      "metadata": {
        "id": "gRu6cMvPeaQH"
      }
    },
    {
      "cell_type": "code",
      "source": [
        "import scipy.stats as stats\n",
        "\n",
        "# Sample data for Office A and Office B\n",
        "n1 = 8\n",
        "mean1 = 82\n",
        "sd1 = 5\n",
        "\n",
        "n2 = 8\n",
        "mean2 = 78\n",
        "sd2 = 6\n",
        "\n",
        "# Set the significance level (alpha)\n",
        "alpha = 0.05\n",
        "\n",
        "# Perform the two-sample t-test\n",
        "t_stat, p_value = stats.ttest_ind_from_stats(mean1=mean1, std1=sd1, nobs1=n1,\n",
        "                                            mean2=mean2, std2=sd2, nobs2=n2,\n",
        "                                            equal_var=False)\n",
        "\n",
        "# Print the results\n",
        "print(\"t-statistic:\", t_stat)\n",
        "print(\"p-value:\", p_value)\n",
        "\n",
        "# Compare p-value with alpha to make a decision\n",
        "if p_value < alpha:\n",
        "    print(\"Reject the null hypothesis. There is a significant difference in productivity between the two offices.\")\n",
        "else:\n",
        "    print(\"Fail to reject the null hypothesis. There is no significant difference in productivity between the two offices.\")"
      ],
      "metadata": {
        "colab": {
          "base_uri": "https://localhost:8080/"
        },
        "id": "Db4LIHIio7Jb",
        "outputId": "b9b220a4-e5cc-464f-e5a0-a15fa06e0580"
      },
      "execution_count": 6,
      "outputs": [
        {
          "output_type": "stream",
          "name": "stdout",
          "text": [
            "t-statistic: 1.4485719366802965\n",
            "p-value: 0.17018632819073165\n",
            "Fail to reject the null hypothesis. There is no significant difference in productivity between the two offices.\n"
          ]
        }
      ]
    },
    {
      "cell_type": "code",
      "source": [],
      "metadata": {
        "id": "O337o_NDo8Es"
      },
      "execution_count": null,
      "outputs": []
    }
  ]
}