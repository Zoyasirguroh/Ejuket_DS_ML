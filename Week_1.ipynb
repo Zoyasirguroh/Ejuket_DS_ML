{
  "nbformat": 4,
  "nbformat_minor": 0,
  "metadata": {
    "colab": {
      "provenance": [],
      "include_colab_link": true
    },
    "kernelspec": {
      "name": "python3",
      "display_name": "Python 3"
    },
    "language_info": {
      "name": "python"
    }
  },
  "cells": [
    {
      "cell_type": "markdown",
      "metadata": {
        "id": "view-in-github",
        "colab_type": "text"
      },
      "source": [
        "<a href=\"https://colab.research.google.com/github/Zoyasirguroh/Ejuket_DS_ML/blob/main/Week_1.ipynb\" target=\"_parent\"><img src=\"https://colab.research.google.com/assets/colab-badge.svg\" alt=\"Open In Colab\"/></a>"
      ]
    },
    {
      "cell_type": "markdown",
      "source": [
        "\n",
        "\n",
        "# Week 1: Introduction to Python for Data Science\n",
        "\n",
        "---"
      ],
      "metadata": {
        "id": "jiJfINmvvhSK"
      }
    },
    {
      "cell_type": "markdown",
      "source": [
        "## 1. Introduction to Python Basics\n",
        "\n",
        "**Goal**: To introduce Python syntax, data types, and basic operations.\n",
        "\n",
        "---\n",
        "\n",
        "### Section 1: Introduction to Python and Its Applications in Data Science\n",
        "\n",
        "Python is a versatile language widely used in data science due to its readability, simplicity, and vast ecosystem of libraries such as NumPy, Pandas, and Matplotlib. Python allows data scientists to efficiently analyze, manipulate, and visualize data.\n",
        "\n",
        "---"
      ],
      "metadata": {
        "id": "a3wdO-4HvoB-"
      }
    },
    {
      "cell_type": "markdown",
      "source": [
        "\n",
        "\n",
        "### Section 2: Variables and Data Types\n",
        "\n",
        "In Python, a variable is a container for storing data values. Let's look at some basic data types.\n",
        "\n",
        "#### Numeric Types\n",
        "- **Integers**: Whole numbers (e.g., `3`, `-7`, `42`)\n",
        "- **Floats**: Decimal numbers (e.g., `3.14`, `-7.5`, `0.001`)\n",
        "\n",
        "#### Strings\n",
        "Strings are sequences of characters, used to store text data. In Python, strings can be enclosed in single (`'`) or double (`\"`) quotes.\n",
        "\n",
        "#### Boolean Values\n",
        "Boolean values represent truth values: `True` and `False`.\n",
        "\n",
        "---\n"
      ],
      "metadata": {
        "id": "3mevi2QvvrRI"
      }
    },
    {
      "cell_type": "code",
      "execution_count": null,
      "metadata": {
        "colab": {
          "base_uri": "https://localhost:8080/"
        },
        "id": "09EDyPYSvXus",
        "outputId": "e73a3768-ba5c-4ec4-9f9b-0d55fa06c9ce"
      },
      "outputs": [
        {
          "output_type": "stream",
          "name": "stdout",
          "text": [
            "x: 10\n",
            "y: 3.14\n",
            "name: Alice\n",
            "is_active: True\n"
          ]
        }
      ],
      "source": [
        "\n",
        "### Code Examples\n",
        "\n",
        "# Assigning values to variables\n",
        "x = 10          # integer\n",
        "y = 3.14        # float\n",
        "name = \"Alice\"  # string\n",
        "is_active = True  # boolean\n",
        "\n",
        "# Printing variables\n",
        "print(\"x:\", x)\n",
        "print(\"y:\", y)\n",
        "print(\"name:\", name)\n",
        "print(\"is_active:\", is_active)\n"
      ]
    },
    {
      "cell_type": "markdown",
      "source": [
        "\n",
        "\n",
        "#### Performing Arithmetic Operations\n",
        "\n"
      ],
      "metadata": {
        "id": "iP1-QuoAwBxN"
      }
    },
    {
      "cell_type": "code",
      "source": [
        "\n",
        "# Arithmetic operations with integers and floats\n",
        "a = 5\n",
        "b = 2\n",
        "\n",
        "# Addition\n",
        "print(\"a + b:\", a + b)\n",
        "\n",
        "# Subtraction\n",
        "print(\"a - b:\", a - b)\n",
        "\n",
        "# Multiplication\n",
        "print(\"a * b:\", a * b)\n",
        "\n",
        "# Division\n",
        "print(\"a / b:\", a / b)\n",
        "\n",
        "# Exponentiation\n",
        "print(\"a ** b:\", a ** b)\n",
        "\n"
      ],
      "metadata": {
        "colab": {
          "base_uri": "https://localhost:8080/"
        },
        "id": "N82NnTdOv-VY",
        "outputId": "6e792a13-be8e-4a9d-df87-6fc0c4ae8a47"
      },
      "execution_count": null,
      "outputs": [
        {
          "output_type": "stream",
          "name": "stdout",
          "text": [
            "a + b: 7\n",
            "a - b: 3\n",
            "a * b: 10\n",
            "a / b: 2.5\n",
            "a ** b: 25\n"
          ]
        }
      ]
    },
    {
      "cell_type": "markdown",
      "source": [
        "\n",
        "#### Working with Strings\n",
        "\n",
        "\n"
      ],
      "metadata": {
        "id": "ITxu5T0lwJQb"
      }
    },
    {
      "cell_type": "code",
      "source": [
        "\n",
        "text = \"Hello, Data Science!\"\n",
        "\n",
        "# Concatenation\n",
        "print(text + \" Let's learn Python.\")\n",
        "\n",
        "# Uppercase and lowercase\n",
        "print(\"Uppercase:\", text.upper())\n",
        "print(\"Lowercase:\", text.lower())\n",
        "\n",
        "# Slicing\n",
        "print(\"First 5 characters:\", text[:5])\n"
      ],
      "metadata": {
        "colab": {
          "base_uri": "https://localhost:8080/"
        },
        "id": "v36BeFVtwM8p",
        "outputId": "8d0ba63f-ee14-42f7-9052-144137fbff3a"
      },
      "execution_count": null,
      "outputs": [
        {
          "output_type": "stream",
          "name": "stdout",
          "text": [
            "Hello, Data Science! Let's learn Python.\n",
            "Uppercase: HELLO, DATA SCIENCE!\n",
            "Lowercase: hello, data science!\n",
            "First 5 characters: Hello\n"
          ]
        }
      ]
    },
    {
      "cell_type": "code",
      "source": [
        "a=5\n",
        "b=2.5\n",
        "c=True\n",
        "d='Hello!'\n",
        "print(a)\n",
        "print(b)\n",
        "print(c)\n",
        "print(d)"
      ],
      "metadata": {
        "colab": {
          "base_uri": "https://localhost:8080/"
        },
        "id": "W7Sby6WsH35q",
        "outputId": "e6da4d3e-be33-4651-b9df-73245a3e1cb0"
      },
      "execution_count": null,
      "outputs": [
        {
          "output_type": "stream",
          "name": "stdout",
          "text": [
            "5\n",
            "2.5\n",
            "True\n",
            "Hello!\n"
          ]
        }
      ]
    },
    {
      "cell_type": "code",
      "source": [
        "a=10\n",
        "b=5.2\n",
        "A=\"intenship\"\n",
        "B=True\n",
        "print(a,b,A,B)"
      ],
      "metadata": {
        "colab": {
          "base_uri": "https://localhost:8080/"
        },
        "id": "ZI-jphEKH8-i",
        "outputId": "d8b0752c-cfe8-4a5f-b5b0-9a92f693c53c"
      },
      "execution_count": null,
      "outputs": [
        {
          "output_type": "stream",
          "name": "stdout",
          "text": [
            "10 5.2 intenship True\n"
          ]
        }
      ]
    },
    {
      "cell_type": "code",
      "source": [
        "x= 10\n",
        "y=10.5\n",
        "z=\"yashas\"\n",
        "b=True\n",
        "\n",
        "print(x,y,z,b)\n",
        "print(type(z))"
      ],
      "metadata": {
        "colab": {
          "base_uri": "https://localhost:8080/"
        },
        "id": "i_0IRrJ4IGRI",
        "outputId": "058b1f0f-dad0-4f9d-d6f9-ff070480a002"
      },
      "execution_count": null,
      "outputs": [
        {
          "output_type": "stream",
          "name": "stdout",
          "text": [
            "10 10.5 yashas True\n",
            "<class 'str'>\n"
          ]
        }
      ]
    },
    {
      "cell_type": "code",
      "source": [
        "x = 10\n",
        "y = 10.55\n",
        "z = 1 + 2j\n",
        "print(type(x))\n",
        "print(type(y))\n",
        "print(type(z))"
      ],
      "metadata": {
        "colab": {
          "base_uri": "https://localhost:8080/"
        },
        "id": "-4c94C6EJCdP",
        "outputId": "24108d89-db46-4fd0-adae-501fd7aefa40"
      },
      "execution_count": null,
      "outputs": [
        {
          "output_type": "stream",
          "name": "stdout",
          "text": [
            "<class 'int'>\n",
            "<class 'float'>\n",
            "<class 'complex'>\n"
          ]
        }
      ]
    },
    {
      "cell_type": "code",
      "source": [
        "a=10\n",
        "b=5.2\n",
        "print(a+b)\n",
        "print(a-b)\n",
        "print(a*b)\n",
        "print(a//b)"
      ],
      "metadata": {
        "colab": {
          "base_uri": "https://localhost:8080/"
        },
        "id": "uGX85s3zJRnG",
        "outputId": "eae79d1f-87f1-4e90-930d-1ab9818569a9"
      },
      "execution_count": null,
      "outputs": [
        {
          "output_type": "stream",
          "name": "stdout",
          "text": [
            "15.2\n",
            "4.8\n",
            "52.0\n",
            "1.0\n"
          ]
        }
      ]
    },
    {
      "cell_type": "code",
      "source": [
        "a=5\n",
        "b=10\n",
        "print(\"a+b:\" , a+b)\n",
        "print(\"a-b:\", a-b)\n",
        "print(\"a*b:\", a*b)\n",
        "print(\"a/b:\", a/b)"
      ],
      "metadata": {
        "colab": {
          "base_uri": "https://localhost:8080/"
        },
        "id": "wWswP99hJUZB",
        "outputId": "d57d3026-c1eb-4004-8482-92cb5856c8b0"
      },
      "execution_count": null,
      "outputs": [
        {
          "output_type": "stream",
          "name": "stdout",
          "text": [
            "a+b: 15\n",
            "a-b: -5\n",
            "a*b: 50\n",
            "a/b: -0.5\n"
          ]
        }
      ]
    },
    {
      "cell_type": "code",
      "source": [
        "\n",
        "\n",
        "p = 20\n",
        "Q = 25.5\n",
        "R = \"Hruthik\"\n",
        "Type = True\n",
        "print(Q)\n",
        "\n",
        "#true -> True\n",
        "#Print()->print()"
      ],
      "metadata": {
        "colab": {
          "base_uri": "https://localhost:8080/"
        },
        "id": "wLJBtvf7JgOU",
        "outputId": "eb6757b8-ef82-46f3-b927-96c499b6a93b"
      },
      "execution_count": null,
      "outputs": [
        {
          "output_type": "stream",
          "name": "stdout",
          "text": [
            "25.5\n"
          ]
        }
      ]
    },
    {
      "cell_type": "code",
      "source": [
        "a=4\n",
        "b=2\n",
        "print(a+b,'\\n',a-b,'\\n',a*b,'\\n',a/b,'\\n',a**b)\n",
        "###\n",
        "###\\n-> new line"
      ],
      "metadata": {
        "colab": {
          "base_uri": "https://localhost:8080/"
        },
        "id": "oSv7UP9WJMk4",
        "outputId": "8ad70ea4-05a0-4610-96ee-1ae029097adc"
      },
      "execution_count": null,
      "outputs": [
        {
          "output_type": "stream",
          "name": "stdout",
          "text": [
            "6 \n",
            " 2 \n",
            " 8 \n",
            " 2.0 \n",
            " 16\n"
          ]
        }
      ]
    },
    {
      "cell_type": "code",
      "source": [
        "A=5\n",
        "B=1\n",
        "print(A+B)\n",
        "print(A-B)\n",
        "print(A*B)\n",
        "print(A/B)"
      ],
      "metadata": {
        "colab": {
          "base_uri": "https://localhost:8080/"
        },
        "id": "OpwSXbgnKT2V",
        "outputId": "618689d7-d6eb-44cc-98a7-27e2321217e5"
      },
      "execution_count": null,
      "outputs": [
        {
          "output_type": "stream",
          "name": "stdout",
          "text": [
            "6\n",
            "4\n",
            "5\n",
            "5.0\n"
          ]
        }
      ]
    },
    {
      "cell_type": "code",
      "source": [
        "Exercise 3: Use string operations to manipulate text.\n",
        "\n",
        "# Your code here\n",
        "\n",
        "\"I am a data scientist\"\n",
        "\n",
        "SCIENTIST\n",
        "\n",
        "data\n",
        "\n",
        "am"
      ],
      "metadata": {
        "id": "EocCnIJ_KELF"
      },
      "execution_count": null,
      "outputs": []
    },
    {
      "cell_type": "code",
      "source": [
        "a=\"I am a data scientist\"\n",
        "print(a[2:5],a[6:11],a[11:].upper())"
      ],
      "metadata": {
        "colab": {
          "base_uri": "https://localhost:8080/"
        },
        "id": "c-aIfL2mLONJ",
        "outputId": "a351e1d1-d0bf-4ae7-ad66-108c3eaf706d"
      },
      "execution_count": null,
      "outputs": [
        {
          "output_type": "stream",
          "name": "stdout",
          "text": [
            "am   data  SCIENTIST\n"
          ]
        }
      ]
    },
    {
      "cell_type": "code",
      "source": [
        "a='I am data scientist'\n",
        "print(a[10:].upper())\n",
        "print(a[5:].lower())"
      ],
      "metadata": {
        "colab": {
          "base_uri": "https://localhost:8080/"
        },
        "id": "NdNAsbWzLkRe",
        "outputId": "46211ce7-a7b9-4852-cc32-f03019eb5333"
      },
      "execution_count": null,
      "outputs": [
        {
          "output_type": "stream",
          "name": "stdout",
          "text": [
            "SCIENTIST\n",
            "data scientist\n"
          ]
        }
      ]
    },
    {
      "cell_type": "markdown",
      "source": [
        "\n",
        "### Practice Exercises\n",
        "\n",
        "**Exercise 1**: Create variables of different types and print them.\n",
        "\n",
        "```python\n",
        "# Your code here\n",
        "```\n",
        "\n",
        "**Exercise 2**: Perform arithmetic operations with integers and floats.\n",
        "\n",
        "```python\n",
        "# Your code here\n",
        "```\n",
        "\n",
        "**Exercise 3**: Use string operations to manipulate text.\n",
        "\n",
        "```python\n",
        "# Your code here\n",
        "```\n",
        "\n",
        "---"
      ],
      "metadata": {
        "id": "ID-dydaVwXuJ"
      }
    },
    {
      "cell_type": "markdown",
      "source": [
        "# Week 1: Introduction to Python for Data Science\n",
        "\n",
        "---\n",
        "\n",
        "## 2. Data Structures (Lists, Tuples, Sets, and Dictionaries)\n",
        "\n",
        "**Goal**: To work with essential Python data structures.\n",
        "\n",
        "---\n",
        "\n",
        "### Section 1: Lists\n",
        "\n",
        "A list is an ordered collection of items, which can be of any data type. Lists are mutable, meaning we can modify their contents.\n",
        "\n",
        "#### Creating a List\n",
        "\n",
        "\n"
      ],
      "metadata": {
        "id": "A2TCI2sZw-IN"
      }
    },
    {
      "cell_type": "code",
      "source": [
        "\n",
        "# Creating a list\n",
        "fruits = [\"apple\", \"banana\", \"cherry\"]\n",
        "print(\"Original list:\", fruits)"
      ],
      "metadata": {
        "colab": {
          "base_uri": "https://localhost:8080/"
        },
        "id": "W4biU78OwTTR",
        "outputId": "901d3add-c551-4029-cf24-09f533ed78fe"
      },
      "execution_count": null,
      "outputs": [
        {
          "output_type": "stream",
          "name": "stdout",
          "text": [
            "Original list: ['apple', 'banana', 'cherry']\n"
          ]
        }
      ]
    },
    {
      "cell_type": "markdown",
      "source": [
        "Indexing, Slicing, and Modifying Lists"
      ],
      "metadata": {
        "id": "QoofWEBGxLJP"
      }
    },
    {
      "cell_type": "code",
      "source": [
        "# Slicing a list\n",
        "print(\"First two fruits:\", fruits[:2])"
      ],
      "metadata": {
        "colab": {
          "base_uri": "https://localhost:8080/"
        },
        "id": "cbf8c0TUOr0S",
        "outputId": "df57a211-e202-488d-feeb-90d2298f016e"
      },
      "execution_count": null,
      "outputs": [
        {
          "output_type": "stream",
          "name": "stdout",
          "text": [
            "First two fruits: ['apple', 'banana']\n"
          ]
        }
      ]
    },
    {
      "cell_type": "code",
      "source": [
        "# Modifying a list\n",
        "fruits[1] = \"blueberry\"\n",
        "print(\"Modified list:\", fruits)"
      ],
      "metadata": {
        "colab": {
          "base_uri": "https://localhost:8080/"
        },
        "id": "v1T426j0O8Z9",
        "outputId": "76db10c7-e4b1-48ac-f882-14b82c5d307d"
      },
      "execution_count": null,
      "outputs": [
        {
          "output_type": "stream",
          "name": "stdout",
          "text": [
            "Modified list: ['apple', 'blueberry', 'cherry']\n"
          ]
        }
      ]
    },
    {
      "cell_type": "code",
      "source": [
        "\n",
        "# Adding and removing elements\n",
        "fruits.append(\"orange\")\n",
        "print(\"After appending:\", fruits)"
      ],
      "metadata": {
        "colab": {
          "base_uri": "https://localhost:8080/"
        },
        "id": "Mx0VbvomPFAf",
        "outputId": "415040b4-89e3-4ffa-873c-13c16b58215b"
      },
      "execution_count": null,
      "outputs": [
        {
          "output_type": "stream",
          "name": "stdout",
          "text": [
            "After appending: ['apple', 'blueberry', 'cherry', 'orange']\n"
          ]
        }
      ]
    },
    {
      "cell_type": "code",
      "source": [
        "fruits.remove(\"apple\")\n",
        "print(\"After removing:\", fruits)"
      ],
      "metadata": {
        "colab": {
          "base_uri": "https://localhost:8080/"
        },
        "id": "83fSV9gCPQhf",
        "outputId": "25c3ffe5-8177-438d-fc78-c267074870f3"
      },
      "execution_count": null,
      "outputs": [
        {
          "output_type": "stream",
          "name": "stdout",
          "text": [
            "After removing: ['blueberry', 'cherry', 'orange']\n"
          ]
        }
      ]
    },
    {
      "cell_type": "code",
      "source": [
        "# Accessing elements by index\n",
        "print(\"First fruit:\", fruits[0])\n",
        "\n",
        "# Slicing a list\n",
        "print(\"First two fruits:\", fruits[:2])\n",
        "\n",
        "# Modifying a list\n",
        "fruits[1] = \"blueberry\"\n",
        "print(\"Modified list:\", fruits)\n",
        "\n",
        "# Adding and removing elements\n",
        "fruits.append(\"orange\")\n",
        "print(\"After appending:\", fruits)\n",
        "\n",
        "\n"
      ],
      "metadata": {
        "id": "tVeCHRWwxMUi"
      },
      "execution_count": null,
      "outputs": []
    },
    {
      "cell_type": "markdown",
      "source": [
        "###Section 2: Tuples\n",
        "A tuple is similar to a list, but it is immutable (cannot be changed after creation). Tuples are useful for storing fixed collections of items.\n",
        "\n",
        "Creating a Tuple and Accessing Elements"
      ],
      "metadata": {
        "id": "Lf9IBfFxxR5z"
      }
    },
    {
      "cell_type": "code",
      "source": [
        "# Creating a tuple\n",
        "coordinates = (4, 5)\n",
        "print(\"Tuple:\", coordinates)"
      ],
      "metadata": {
        "colab": {
          "base_uri": "https://localhost:8080/"
        },
        "id": "z9z9RdERQJ36",
        "outputId": "4b21c879-a233-467e-d62b-2dabc1076571"
      },
      "execution_count": null,
      "outputs": [
        {
          "output_type": "stream",
          "name": "stdout",
          "text": [
            "Tuple: (4, 5)\n"
          ]
        }
      ]
    },
    {
      "cell_type": "code",
      "source": [
        "\n",
        "\n",
        "# Accessing elements\n",
        "print(\"First element:\", coordinates[0])\n"
      ],
      "metadata": {
        "colab": {
          "base_uri": "https://localhost:8080/"
        },
        "id": "TZNpNqLvxV6L",
        "outputId": "d82c410e-40af-49ce-8255-0499b1f49a7c"
      },
      "execution_count": null,
      "outputs": [
        {
          "output_type": "stream",
          "name": "stdout",
          "text": [
            "First element: 4\n"
          ]
        }
      ]
    },
    {
      "cell_type": "markdown",
      "source": [
        "###Section 3: Sets\n",
        "A set is an unordered collection of unique elements. Sets are useful for removing duplicates and performing mathematical set operations.\n",
        "\n",
        "Creating a Set and Demonstrating Set Operations"
      ],
      "metadata": {
        "id": "ZpXfcyayxkri"
      }
    },
    {
      "cell_type": "code",
      "source": [
        "# Creating a set\n",
        "numbers = {1, 2, 3, 4, 4, 5}\n",
        "print(\"Set:\", numbers)  # duplicates are removed\n",
        "\n",
        "# Set operations\n",
        "set_a = {1, 2, 3}\n",
        "set_b = {3, 4, 5}\n",
        "print(set_a)\n",
        "print(set_b)"
      ],
      "metadata": {
        "colab": {
          "base_uri": "https://localhost:8080/"
        },
        "id": "80_pWb34QmEp",
        "outputId": "31905243-33eb-4d29-866c-34d655fec971"
      },
      "execution_count": null,
      "outputs": [
        {
          "output_type": "stream",
          "name": "stdout",
          "text": [
            "Set: {1, 2, 3, 4, 5}\n",
            "{1, 2, 3}\n",
            "{3, 4, 5}\n"
          ]
        }
      ]
    },
    {
      "cell_type": "code",
      "source": [
        "# Creating a set\n",
        "numbers = {1, 2, 3, 4, 4, 5}\n",
        "print(\"Set:\", numbers)  # duplicates are removed\n",
        "\n",
        "# Set operations\n",
        "set_a = {1, 2, 3}\n",
        "set_b = {3, 4, 5}\n",
        "\n",
        "# Union\n",
        "print(\"Union:\", set_a | set_b)\n",
        "\n",
        "# Intersection\n",
        "print(\"Intersection:\", set_a & set_b)\n"
      ],
      "metadata": {
        "colab": {
          "base_uri": "https://localhost:8080/"
        },
        "id": "PCG8BOnFxmd5",
        "outputId": "aab185d7-9a49-4e4c-ca77-1825ec498ba2"
      },
      "execution_count": null,
      "outputs": [
        {
          "output_type": "stream",
          "name": "stdout",
          "text": [
            "Set: {1, 2, 3, 4, 5}\n",
            "Union: {1, 2, 3, 4, 5}\n",
            "Intersection: {3}\n"
          ]
        }
      ]
    },
    {
      "cell_type": "markdown",
      "source": [
        "###Section 4: Dictionaries\n",
        "A dictionary is a collection of key-value pairs, allowing us to store and access data by a unique key.\n",
        "\n",
        "Creating and Modifying a Dictionary"
      ],
      "metadata": {
        "id": "z-aq26P_xvXO"
      }
    },
    {
      "cell_type": "code",
      "source": [
        "# Creating a dictionary\n",
        "student = {\"name\": \"Alice\", \"age\": 21, \"courses\": [\"Math\", \"Physics\"]}\n",
        "print(\"Original dictionary:\", student)"
      ],
      "metadata": {
        "colab": {
          "base_uri": "https://localhost:8080/"
        },
        "id": "7QF0JyqLRUsC",
        "outputId": "56decfd3-5251-4f13-d575-173852d2ff8e"
      },
      "execution_count": null,
      "outputs": [
        {
          "output_type": "stream",
          "name": "stdout",
          "text": [
            "Original dictionary: {'name': 'Alice', 'age': 21, 'courses': ['Math', 'Physics']}\n"
          ]
        }
      ]
    },
    {
      "cell_type": "code",
      "source": [
        "# Accessing values\n",
        "print(\"Name:\", student[\"name\"])"
      ],
      "metadata": {
        "colab": {
          "base_uri": "https://localhost:8080/"
        },
        "id": "h8vizMyfRtfk",
        "outputId": "9b2ac375-8631-4194-ab56-0cb1be842fe8"
      },
      "execution_count": null,
      "outputs": [
        {
          "output_type": "stream",
          "name": "stdout",
          "text": [
            "Name: Alice\n"
          ]
        }
      ]
    },
    {
      "cell_type": "code",
      "source": [
        "# Adding a new key-value pair\n",
        "student[\"grade\"] = \"A\"\n",
        "print(\"Updated dictionary:\", student)\n"
      ],
      "metadata": {
        "colab": {
          "base_uri": "https://localhost:8080/"
        },
        "id": "xLNm1_fPR0yW",
        "outputId": "fe152ad4-3ce2-4e17-9809-870bc0ce7e77"
      },
      "execution_count": null,
      "outputs": [
        {
          "output_type": "stream",
          "name": "stdout",
          "text": [
            "Updated dictionary: {'name': 'Alice', 'age': 21, 'courses': ['Math', 'Physics'], 'grade': 'A'}\n"
          ]
        }
      ]
    },
    {
      "cell_type": "code",
      "source": [
        "student[\"ID no\"] = 41\n",
        "\n",
        "print(\"Updated dictionary:\", student)"
      ],
      "metadata": {
        "colab": {
          "base_uri": "https://localhost:8080/"
        },
        "id": "D1dH4v-ySG4o",
        "outputId": "49968fdb-2e55-4444-cd04-37460a7d1317"
      },
      "execution_count": null,
      "outputs": [
        {
          "output_type": "stream",
          "name": "stdout",
          "text": [
            "Updated dictionary: {'name': 'Alice', 'age': 21, 'courses': ['Math', 'Physics'], 'grade': 'A', 'ID no': 41}\n"
          ]
        }
      ]
    },
    {
      "cell_type": "code",
      "source": [
        "# Updating an existing value\n",
        "student[\"age\"] = 22\n",
        "print(\"Modified dictionary:\", student)\n"
      ],
      "metadata": {
        "colab": {
          "base_uri": "https://localhost:8080/"
        },
        "id": "J6iji_axxyFL",
        "outputId": "196b6cfa-2987-44fa-c72c-4b747f95c361"
      },
      "execution_count": null,
      "outputs": [
        {
          "output_type": "stream",
          "name": "stdout",
          "text": [
            "Modified dictionary: {'name': 'Alice', 'age': 22, 'courses': ['Math', 'Physics'], 'grade': 'A', 'ID no': 41}\n"
          ]
        }
      ]
    },
    {
      "cell_type": "markdown",
      "source": [
        "###Practice Exercises\n",
        "Exercise 1: Create a list of numbers and calculate the sum.\n",
        "\n"
      ],
      "metadata": {
        "id": "Bbd230jox7PA"
      }
    },
    {
      "cell_type": "code",
      "source": [
        "\n",
        "# Your code here\n",
        "numbers = [10, 20, 30, 40, 50]\n",
        "# Calculate and print the sum"
      ],
      "metadata": {
        "id": "hxsVkEFSyC0s"
      },
      "execution_count": null,
      "outputs": []
    },
    {
      "cell_type": "code",
      "source": [
        "# Your code here\n",
        "numbers = [10, 20, 30, 40, 50]\n",
        "# Calculate and print the sum\n",
        "print(sum(numbers))"
      ],
      "metadata": {
        "colab": {
          "base_uri": "https://localhost:8080/"
        },
        "id": "c0xCc2cvSkJh",
        "outputId": "d013e0f7-f69a-4966-afb1-463eec7ffee1"
      },
      "execution_count": null,
      "outputs": [
        {
          "output_type": "stream",
          "name": "stdout",
          "text": [
            "150\n"
          ]
        }
      ]
    },
    {
      "cell_type": "markdown",
      "source": [
        "Exercise 2: Write a dictionary to store information about a student (name, age, courses) and retrieve values."
      ],
      "metadata": {
        "id": "7o6hlN60yGdG"
      }
    },
    {
      "cell_type": "code",
      "source": [
        "# Your code here\n",
        "student_info = {\n",
        "    \"name\": \"John Doe\",\n",
        "    \"age\": 20,\n",
        "    \"courses\": [\"Biology\", \"Chemistry\"]\n",
        "}\n",
        "# Retrieve and print values\n"
      ],
      "metadata": {
        "id": "2hCBKyNQyHMx"
      },
      "execution_count": null,
      "outputs": []
    },
    {
      "cell_type": "code",
      "source": [
        "# Your code here\n",
        "student_info = {\n",
        "    \"name\": \"John Doe\",\n",
        "    \"age\": 20,\n",
        "    \"courses\": [\"Biology\", \"Chemistry\"]\n",
        "}\n",
        "# Retrieve and print values\n",
        "print(student_info[\"name\"])\n",
        "print(student_info[\"age\"])\n",
        "print(student_info[\"courses\"])"
      ],
      "metadata": {
        "colab": {
          "base_uri": "https://localhost:8080/"
        },
        "id": "T7kwyQhZS33L",
        "outputId": "f6612897-250b-4582-bbb8-8f52efe89da7"
      },
      "execution_count": null,
      "outputs": [
        {
          "output_type": "stream",
          "name": "stdout",
          "text": [
            "John Doe\n",
            "20\n",
            "['Biology', 'Chemistry']\n"
          ]
        }
      ]
    },
    {
      "cell_type": "markdown",
      "source": [
        "Exercise 3: Perform set operations on two sets of data."
      ],
      "metadata": {
        "id": "4aYJ51fiyOI1"
      }
    },
    {
      "cell_type": "code",
      "source": [
        "# Your code here\n",
        "set_x = {10, 20, 30}\n",
        "set_y = {20, 30, 40}\n",
        "# Union and intersection\n"
      ],
      "metadata": {
        "id": "CDm0UCBFyR6M"
      },
      "execution_count": null,
      "outputs": []
    },
    {
      "cell_type": "code",
      "source": [
        "set_x = {10, 20, 30}\n",
        "set_y = {20, 30, 40}\n",
        "# Union and intersection\n",
        "print(set_x.union(set_y))\n",
        "print(set_x.intersection(set_y))"
      ],
      "metadata": {
        "colab": {
          "base_uri": "https://localhost:8080/"
        },
        "id": "i-sPUNbzTw6N",
        "outputId": "5d60c125-c3ae-4a6b-e712-60d6ba1d3a51"
      },
      "execution_count": null,
      "outputs": [
        {
          "output_type": "stream",
          "name": "stdout",
          "text": [
            "{20, 40, 10, 30}\n",
            "{20, 30}\n"
          ]
        }
      ]
    },
    {
      "cell_type": "code",
      "source": [
        "# Your code here\n",
        "set_x = {10, 20, 30}\n",
        "set_y = {20, 30, 40}\n",
        "# Union and intersection\n",
        "print(set_x.union(set_y))\n",
        "print(set_x.intersection(set_y))"
      ],
      "metadata": {
        "colab": {
          "base_uri": "https://localhost:8080/"
        },
        "id": "9Gk2ieSvT1c0",
        "outputId": "63dc5fa2-bac4-4aa0-be92-567d021ae0bd"
      },
      "execution_count": null,
      "outputs": [
        {
          "output_type": "stream",
          "name": "stdout",
          "text": [
            "{20, 40, 10, 30}\n",
            "{20, 30}\n"
          ]
        }
      ]
    },
    {
      "cell_type": "markdown",
      "source": [
        "\n",
        "\n",
        "## 3. Control Structures (Conditional Statements and Loops)\n",
        "\n",
        "**Goal**: To learn how to use control structures for decision-making and iteration.\n",
        "\n",
        "---\n",
        "\n",
        "\n"
      ],
      "metadata": {
        "id": "LhAC98HoynZS"
      }
    },
    {
      "cell_type": "markdown",
      "source": [
        "### Section 1: Conditional Statements\n",
        "\n",
        "Conditional statements in Python allow us to make decisions in our code based on certain conditions. The main conditional statements are `if`, `elif`, and `else`.\n",
        "\n",
        "#### if, elif, else Statements"
      ],
      "metadata": {
        "id": "SwC6J3jcy9nA"
      }
    },
    {
      "cell_type": "code",
      "source": [
        "\n",
        "# Simple if-else example\n",
        "number = 5\n",
        "\n",
        "if number > 0:\n",
        "    print(\"The number is positive.\")\n",
        "elif number < 0:\n",
        "    print(\"The number is negative.\")\n",
        "else:\n",
        "    print(\"The number is zero.\")\n"
      ],
      "metadata": {
        "colab": {
          "base_uri": "https://localhost:8080/"
        },
        "id": "LefIMhpYyyh4",
        "outputId": "f719d76b-4148-4e68-b535-e92c4e7882d3"
      },
      "execution_count": null,
      "outputs": [
        {
          "output_type": "stream",
          "name": "stdout",
          "text": [
            "The number is positive.\n"
          ]
        }
      ]
    },
    {
      "cell_type": "markdown",
      "source": [
        "###Section 2: Loops\n",
        "Loops allow us to execute a block of code multiple times. Python has two main types of loops: for loops and while loops.\n",
        "\n",
        "for Loop\n",
        "A for loop is used to iterate over a sequence (like a list, tuple, or string)."
      ],
      "metadata": {
        "id": "XI07_sN_y4WV"
      }
    },
    {
      "cell_type": "code",
      "source": [
        "# Using a for loop to iterate over a list\n",
        "fruits = [\"apple\", \"banana\", \"cherry\"]\n",
        "\n",
        "for fruit in fruits:\n",
        "    print(fruit)\n"
      ],
      "metadata": {
        "colab": {
          "base_uri": "https://localhost:8080/"
        },
        "id": "78GnfsxJy6Zm",
        "outputId": "cbb39716-41c6-441d-97c2-0e3039f643ca"
      },
      "execution_count": null,
      "outputs": [
        {
          "output_type": "stream",
          "name": "stdout",
          "text": [
            "apple\n",
            "banana\n",
            "cherry\n"
          ]
        }
      ]
    },
    {
      "cell_type": "markdown",
      "source": [
        "####while Loop\n",
        "A while loop repeats a block of code as long as a condition is True."
      ],
      "metadata": {
        "id": "Sn0Mh4zizFBu"
      }
    },
    {
      "cell_type": "code",
      "source": [
        "# Using a while loop to perform repeated operations\n",
        "count = 0\n",
        "\n",
        "while count < 5:\n",
        "    print(\"Count is:\", count)\n",
        "    count += 1\n"
      ],
      "metadata": {
        "colab": {
          "base_uri": "https://localhost:8080/"
        },
        "id": "AwlFB0LczHOm",
        "outputId": "436fdc63-9cc4-4ce1-c734-d695e6fa1ea6"
      },
      "execution_count": null,
      "outputs": [
        {
          "output_type": "stream",
          "name": "stdout",
          "text": [
            "Count is: 0\n",
            "Count is: 1\n",
            "Count is: 2\n",
            "Count is: 3\n",
            "Count is: 4\n"
          ]
        }
      ]
    },
    {
      "cell_type": "markdown",
      "source": [
        "###Section 3: Loop Controls\n",
        "Loop control statements modify the behavior of loops:\n",
        "\n",
        "break: Exit the loop completely.\n",
        "\n",
        "\n",
        "\n",
        "continue: Skip the current iteration and proceed to the next iteration.\n",
        "\n",
        "\n",
        "\n",
        "pass: Do nothing; a placeholder."
      ],
      "metadata": {
        "id": "FLlfzP0PzNtZ"
      }
    },
    {
      "cell_type": "code",
      "source": [
        "# Using break, continue, and pass\n",
        "numbers = [1, 2, 3, 4, 5,6]\n",
        "\n",
        "for num in numbers:\n",
        "    if num == 4:\n",
        "        continue  # Skip the number 3\n",
        "    elif num == 6:\n",
        "        break  # Exit the loop when num is 5\n",
        "    print(num)\n"
      ],
      "metadata": {
        "colab": {
          "base_uri": "https://localhost:8080/"
        },
        "id": "4vTkT8razQh9",
        "outputId": "7620c410-4ae4-4227-a695-90d05e09b71a"
      },
      "execution_count": null,
      "outputs": [
        {
          "output_type": "stream",
          "name": "stdout",
          "text": [
            "1\n",
            "2\n",
            "3\n",
            "5\n"
          ]
        }
      ]
    },
    {
      "cell_type": "markdown",
      "source": [
        "###Practice Exercises\n",
        "Exercise 1: Write a code to categorize a number as positive, negative, or zero."
      ],
      "metadata": {
        "id": "5BhUvspSzXLc"
      }
    },
    {
      "cell_type": "code",
      "source": [
        "n = 10\n",
        "if n > 0:\n",
        "    print(\"Positive\")\n",
        "elif n < 0:\n",
        "    print(\"Negative\")\n",
        "else:\n",
        "    print(\"Zero\")"
      ],
      "metadata": {
        "colab": {
          "base_uri": "https://localhost:8080/"
        },
        "id": "i9nEUt67WkD-",
        "outputId": "e3837175-ade5-4971-a6a2-2cd5e282e855"
      },
      "execution_count": null,
      "outputs": [
        {
          "output_type": "stream",
          "name": "stdout",
          "text": [
            "Positive\n"
          ]
        }
      ]
    },
    {
      "cell_type": "code",
      "source": [
        "\n",
        "num = 0\n",
        "# Test the function with a number\n"
      ],
      "metadata": {
        "id": "Fhw_F0NJzay9"
      },
      "execution_count": null,
      "outputs": []
    },
    {
      "cell_type": "markdown",
      "source": [
        "Exercise 2: Create a loop to print even numbers from a list."
      ],
      "metadata": {
        "id": "HCF2-dmczqSf"
      }
    },
    {
      "cell_type": "code",
      "source": [
        "# Your code here\n",
        "numbers = [1, 2, 3, 4, 5, 6, 7, 8, 9, 10]\n",
        "# Print only even numbers\n"
      ],
      "metadata": {
        "id": "JNU-UcCUztsy"
      },
      "execution_count": null,
      "outputs": []
    },
    {
      "cell_type": "markdown",
      "source": [
        "/ -> division operator\n",
        "output after division\n",
        "but\n",
        "% modulus it return the remainder\n",
        "so any number that is even should have 0 after dividing by 2"
      ],
      "metadata": {
        "id": "UXMBqH1QXsmQ"
      }
    },
    {
      "cell_type": "code",
      "source": [
        "for num in numbers:\n",
        "  if  num % 2 == 0:\n",
        "    print(num)\n",
        "\n"
      ],
      "metadata": {
        "colab": {
          "base_uri": "https://localhost:8080/"
        },
        "id": "tZflSvFIXYfM",
        "outputId": "2f84eac4-122c-4555-9e37-4880080e97f2"
      },
      "execution_count": null,
      "outputs": [
        {
          "output_type": "stream",
          "name": "stdout",
          "text": [
            "2\n",
            "4\n",
            "6\n",
            "8\n",
            "10\n"
          ]
        }
      ]
    },
    {
      "cell_type": "markdown",
      "source": [
        "Exercise 3: Use a while loop to calculate the factorial of a number."
      ],
      "metadata": {
        "id": "Vt5AAY18zw1G"
      }
    },
    {
      "cell_type": "code",
      "source": [
        "num= 5\n",
        "factorial = 1\n",
        "i = 1\n",
        "\n",
        "while i<=num: # 1<=5 #2<=5 #3\n",
        "    factorial= factorial *i# 1*1 # 2*1\n",
        "    i+=1 #2#3\n",
        "print(factorial)"
      ],
      "metadata": {
        "colab": {
          "base_uri": "https://localhost:8080/"
        },
        "id": "-1FLHeaCzp8Z",
        "outputId": "3ee958e0-3853-45af-fd4a-e7a30362ddfd"
      },
      "execution_count": null,
      "outputs": [
        {
          "output_type": "stream",
          "name": "stdout",
          "text": [
            "120\n"
          ]
        }
      ]
    },
    {
      "cell_type": "markdown",
      "source": [
        "# Week 1: Introduction to Python for Data Science\n",
        "\n",
        "---\n",
        "\n",
        "## 4. Functions in Python\n",
        "\n",
        "**Goal**: Learn to write functions for modularity and reusability.\n",
        "\n",
        "---\n",
        "\n",
        "### Section 1: Defining Functions\n",
        "\n",
        "A function is a reusable block of code that performs a specific task. In Python, functions are defined using the `def` keyword.\n",
        "\n",
        "#### Basic Function Definition\n"
      ],
      "metadata": {
        "id": "iwFUX1oFIlJm"
      }
    },
    {
      "cell_type": "markdown",
      "source": [
        "mean ->20 different\n",
        "write 20 types ?\n",
        "\n",
        "function\n",
        "<code>\n",
        "\n",
        "function can be 20\n",
        "\n",
        "\n",
        "OOPS -> data science\n",
        "procedural->\n",
        "function"
      ],
      "metadata": {
        "id": "SsnJCWQONkCV"
      }
    },
    {
      "cell_type": "code",
      "source": [
        "\n",
        "# Defining a function to calculate the square of a number\n",
        "def square(number):\n",
        "    return number ** 2\n",
        "\n",
        "# Testing the function\n",
        "print(\"Square of 5:\", square(5))\n"
      ],
      "metadata": {
        "id": "GjNJKItiZC3t"
      },
      "execution_count": null,
      "outputs": []
    },
    {
      "cell_type": "code",
      "source": [
        "def num(n):\n",
        "    if n > 0:\n",
        "        return \"Positive\"\n",
        "    elif n < 0:\n",
        "        return \"Negative\"\n",
        "    else:\n",
        "        return \"Zero\"\n",
        "\n",
        "num(2)"
      ],
      "metadata": {
        "colab": {
          "base_uri": "https://localhost:8080/",
          "height": 36
        },
        "id": "cI8bqZ51QIvg",
        "outputId": "7833b0db-b905-45c5-c070-f6db8915acb0"
      },
      "execution_count": null,
      "outputs": [
        {
          "output_type": "execute_result",
          "data": {
            "text/plain": [
              "'Positive'"
            ],
            "application/vnd.google.colaboratory.intrinsic+json": {
              "type": "string"
            }
          },
          "metadata": {},
          "execution_count": 1
        }
      ]
    },
    {
      "cell_type": "code",
      "source": [
        "def number(num):\n",
        "  if num<0:\n",
        "    print(\"negative\")\n",
        "  elif num>0:\n",
        "    print(\"positive\")\n",
        "  else:\n",
        "    print(\"zero\")\n",
        "num=int(input(\"enter the number\"))\n",
        "number(num)"
      ],
      "metadata": {
        "colab": {
          "base_uri": "https://localhost:8080/"
        },
        "id": "3UrFbeEaQT-p",
        "outputId": "cd054b67-dd8a-4491-e567-6d3ac103c169"
      },
      "execution_count": null,
      "outputs": [
        {
          "output_type": "stream",
          "name": "stdout",
          "text": [
            "enter the number-5\n",
            "negative\n"
          ]
        }
      ]
    },
    {
      "cell_type": "code",
      "source": [
        "def check_number(num):\n",
        "    if num > 0:\n",
        "        return \"Positive\"\n",
        "    elif num < 0:\n",
        "        return \"Negative\"\n",
        "check_number(-1)"
      ],
      "metadata": {
        "colab": {
          "base_uri": "https://localhost:8080/",
          "height": 36
        },
        "id": "ROYsbzP1QZ9Q",
        "outputId": "8515d2ff-e4be-4e01-f70d-92806e8bbb73"
      },
      "execution_count": null,
      "outputs": [
        {
          "output_type": "execute_result",
          "data": {
            "text/plain": [
              "'Negative'"
            ],
            "application/vnd.google.colaboratory.intrinsic+json": {
              "type": "string"
            }
          },
          "metadata": {},
          "execution_count": 3
        }
      ]
    },
    {
      "cell_type": "code",
      "source": [
        "def number(num):\n",
        "    if num > 0:\n",
        "        return f\"{num} is a positive number.\"\n",
        "    elif num < 0:\n",
        "        return f\"{num} is a negative number.\"\n",
        "    else:\n",
        "        return f\"{num} is zero.\"\n",
        "number(0)"
      ],
      "metadata": {
        "colab": {
          "base_uri": "https://localhost:8080/",
          "height": 36
        },
        "id": "m4wNEI89Q5Gq",
        "outputId": "cd611845-07b3-4cfe-b1dd-6b201d4ed710"
      },
      "execution_count": null,
      "outputs": [
        {
          "output_type": "execute_result",
          "data": {
            "text/plain": [
              "'0 is zero.'"
            ],
            "application/vnd.google.colaboratory.intrinsic+json": {
              "type": "string"
            }
          },
          "metadata": {},
          "execution_count": 4
        }
      ]
    },
    {
      "cell_type": "markdown",
      "source": [
        "Section 2: Function Arguments\n",
        "\n",
        "\n",
        "Functions can accept arguments, allowing us to pass data into the function. There are two types of arguments:\n",
        "\n",
        "Positional arguments: Required arguments passed in a specific order.\n",
        "\n",
        "\n",
        "Keyword arguments: Optional arguments with default values.\n",
        "Example of Positional and Keyword Arguments"
      ],
      "metadata": {
        "id": "--mhyeSiIrzY"
      }
    },
    {
      "cell_type": "code",
      "source": [
        "# Function with a default argument\n",
        "def greet(name, message=\"Hello\"):\n",
        "    return f\"{message}, {name}!\"\n",
        "\n",
        "# Testing the function\n",
        "print(greet(\"Alice\"))\n",
        "print(greet(\"Bob\", \"Good morning\"))\n"
      ],
      "metadata": {
        "colab": {
          "base_uri": "https://localhost:8080/"
        },
        "id": "1EeCDxVyIsph",
        "outputId": "b55b9188-7b54-42b8-f599-72b1a8297bf2"
      },
      "execution_count": null,
      "outputs": [
        {
          "output_type": "stream",
          "name": "stdout",
          "text": [
            "Hello, Alice!\n",
            "Good morning, Bob!\n"
          ]
        }
      ]
    },
    {
      "cell_type": "markdown",
      "source": [
        "Section 3: Return Statements\n",
        "The return statement specifies the value a function should output.\n",
        "\n",
        "\n",
        "If no return is given, the function returns None by default."
      ],
      "metadata": {
        "id": "mQLWEG_PIxlI"
      }
    },
    {
      "cell_type": "code",
      "source": [
        "# Function to calculate the sum of two numbers\n",
        "def add(a, b):\n",
        "    result = a + b\n",
        "    # return result\n",
        "\n",
        "# Testing the function\n",
        "print(\"Sum of 3 and 5:\", add(3, 5))\n"
      ],
      "metadata": {
        "colab": {
          "base_uri": "https://localhost:8080/"
        },
        "id": "RgtAGoknIyB4",
        "outputId": "0f3d226f-8382-4db6-b72d-ede6b26688ff"
      },
      "execution_count": null,
      "outputs": [
        {
          "output_type": "stream",
          "name": "stdout",
          "text": [
            "Sum of 3 and 5: None\n"
          ]
        }
      ]
    },
    {
      "cell_type": "markdown",
      "source": [
        "Section 4: Lambda Functions\n",
        "A lambda function is a small, anonymous function defined using the lambda keyword. Lambda functions are typically used for simple operations.\n",
        "\n",
        "Basic Lambda Example"
      ],
      "metadata": {
        "id": "h-niORDOI19R"
      }
    },
    {
      "cell_type": "code",
      "source": [
        "# Lambda function to calculate the square of a number\n",
        "square_lambda = lambda x: x ** 2\n",
        "print(\"Square of 6 (using lambda):\", square_lambda(6))\n"
      ],
      "metadata": {
        "colab": {
          "base_uri": "https://localhost:8080/"
        },
        "id": "dD-w6a3VI4f9",
        "outputId": "b1440e58-e0f3-4c6b-c6d3-b38633e8be03"
      },
      "execution_count": null,
      "outputs": [
        {
          "output_type": "stream",
          "name": "stdout",
          "text": [
            "Square of 6 (using lambda): 36\n"
          ]
        }
      ]
    },
    {
      "cell_type": "code",
      "source": [
        "\n",
        "# Lambda for addition\n",
        "add_lambda = lambda a, b: a + b\n",
        "print(\"Addition of 2 and 3 (using lambda):\", add_lambda(2, 3))\n"
      ],
      "metadata": {
        "colab": {
          "base_uri": "https://localhost:8080/"
        },
        "id": "DjiKUsJBSi2v",
        "outputId": "a4934ad6-527d-47db-9321-8afc84144ef7"
      },
      "execution_count": null,
      "outputs": [
        {
          "output_type": "stream",
          "name": "stdout",
          "text": [
            "Addition of 2 and 3 (using lambda): 5\n"
          ]
        }
      ]
    },
    {
      "cell_type": "markdown",
      "source": [
        "Practice Exercises\n",
        "Exercise 1: Write a function to convert temperature from Celsius to Fahrenheit.\n",
        "Hint: Use the formula (Celsius * 9/5) + 32."
      ],
      "metadata": {
        "id": "d1_JEc9eI_sM"
      }
    },
    {
      "cell_type": "code",
      "source": [
        "def celsius_to_fahrenheit(celsius):\n",
        "    fahrenheit = (celsius * 9/5) + 32\n",
        "    return fahrenheit\n",
        "celsius_to_fahrenheit(40)"
      ],
      "metadata": {
        "colab": {
          "base_uri": "https://localhost:8080/"
        },
        "id": "jgZ6Co5jT6lZ",
        "outputId": "0d9476b4-662f-43d0-f9bf-dea0f8730c0f"
      },
      "execution_count": null,
      "outputs": [
        {
          "output_type": "execute_result",
          "data": {
            "text/plain": [
              "104.0"
            ]
          },
          "metadata": {},
          "execution_count": 10
        }
      ]
    },
    {
      "cell_type": "code",
      "source": [
        "def celsius_to_fahrenheit(celsius):\n",
        "    fahrenheit = (celsius * 9/5) + 32\n",
        "    return fahrenheit\n",
        "cel=int(input(\"Enter temperature in celsius: \"))\n",
        "print(celsius_to_fahrenheit(cel))"
      ],
      "metadata": {
        "colab": {
          "base_uri": "https://localhost:8080/"
        },
        "id": "4ydNTyhCUDft",
        "outputId": "7aaf72a0-dbd3-4702-d822-bda06f6d42b3"
      },
      "execution_count": null,
      "outputs": [
        {
          "output_type": "stream",
          "name": "stdout",
          "text": [
            "Enter temperature in celsius: 40\n",
            "104.0\n"
          ]
        }
      ]
    },
    {
      "cell_type": "code",
      "source": [
        "c_to_f = lambda c: (c * 9/5) + 32\n",
        "f=c_to_f(25)\n",
        "print(f)\n"
      ],
      "metadata": {
        "colab": {
          "base_uri": "https://localhost:8080/"
        },
        "id": "2xPIskKFUVXU",
        "outputId": "6e80b6dc-60db-4d58-f751-8208c77bcb38"
      },
      "execution_count": null,
      "outputs": [
        {
          "output_type": "stream",
          "name": "stdout",
          "text": [
            "77.0\n"
          ]
        }
      ]
    },
    {
      "cell_type": "code",
      "source": [
        "def celsius_to_farenheit(celsius):\n",
        "  farenheit = (celsius*9/5)+32\n",
        "  celsius_temp = 25\n",
        "  return farenheit\n",
        "celsius_to_farenheit(40)"
      ],
      "metadata": {
        "colab": {
          "base_uri": "https://localhost:8080/"
        },
        "id": "iomGehI9UbI7",
        "outputId": "04d5eb17-314f-4bc5-fd92-8b734e0fe444"
      },
      "execution_count": null,
      "outputs": [
        {
          "output_type": "execute_result",
          "data": {
            "text/plain": [
              "104.0"
            ]
          },
          "metadata": {},
          "execution_count": 13
        }
      ]
    },
    {
      "cell_type": "code",
      "source": [
        "def celsius_to_fahrenheit(celsius):\n",
        "    # Your code here\n",
        "    pass\n",
        "\n",
        "# Test the function\n"
      ],
      "metadata": {
        "id": "nR91w1oRJJh3"
      },
      "execution_count": null,
      "outputs": []
    },
    {
      "cell_type": "markdown",
      "source": [
        "Exercise 2: Create a function to calculate the area of a rectangle given length and width."
      ],
      "metadata": {
        "id": "pohZOtVWJN_a"
      }
    },
    {
      "cell_type": "code",
      "source": [
        "area_lamda=lambda a,b:a*b\n",
        "area_lamda(5,6)"
      ],
      "metadata": {
        "colab": {
          "base_uri": "https://localhost:8080/"
        },
        "id": "Mi2GMLKiVrLv",
        "outputId": "08b0fd4d-99f4-4a55-c620-c1843abb911f"
      },
      "execution_count": null,
      "outputs": [
        {
          "output_type": "execute_result",
          "data": {
            "text/plain": [
              "30"
            ]
          },
          "metadata": {},
          "execution_count": 14
        }
      ]
    },
    {
      "cell_type": "code",
      "source": [
        "def area(a,b):\n",
        "    return a*b\n",
        "area(5,6)"
      ],
      "metadata": {
        "colab": {
          "base_uri": "https://localhost:8080/"
        },
        "id": "bwjzyiR2Vvkb",
        "outputId": "38d11c80-8f36-474a-af41-430404e60c0a"
      },
      "execution_count": null,
      "outputs": [
        {
          "output_type": "execute_result",
          "data": {
            "text/plain": [
              "30"
            ]
          },
          "metadata": {},
          "execution_count": 15
        }
      ]
    },
    {
      "cell_type": "code",
      "source": [
        "def rectangle_area(length,width):\n",
        "  area = length * width\n",
        "  return area\n",
        "length = 3\n",
        "width = 8\n",
        "area = rectangle_area(length,width)\n",
        "print(f\"area of rectangle is {area} square units\")"
      ],
      "metadata": {
        "colab": {
          "base_uri": "https://localhost:8080/"
        },
        "id": "0jZknm25Vzm0",
        "outputId": "3e0dd34b-0605-4317-8774-cd55442ca68b"
      },
      "execution_count": null,
      "outputs": [
        {
          "output_type": "stream",
          "name": "stdout",
          "text": [
            "area of rectangle is 24 square units\n"
          ]
        }
      ]
    },
    {
      "cell_type": "code",
      "source": [
        "def calculate_area(length, width):\n",
        "    return length * width\n",
        "\n",
        "length = float(input(\"Enter length: \"))\n",
        "width = float(input(\"Enter width: \"))\n",
        "print(\"Area of rectangle:\", calculate_area(length, width))"
      ],
      "metadata": {
        "colab": {
          "base_uri": "https://localhost:8080/"
        },
        "id": "W0nf5zLyWL9D",
        "outputId": "66b00ab0-283f-46db-cb71-e250f80a08d8"
      },
      "execution_count": null,
      "outputs": [
        {
          "output_type": "stream",
          "name": "stdout",
          "text": [
            "Enter length: 5\n",
            "Enter width: 4\n",
            "Area of rectangle: 20.0\n"
          ]
        }
      ]
    },
    {
      "cell_type": "code",
      "source": [
        "area = lambda length, width: length * width\n",
        "length = float(input(\"Enter the length of the rectangle: \"))\n",
        "width = float(input(\"Enter the width of the rectangle: \"))\n",
        "rect = area(length, width)\n",
        "print(f\"The area of the rectangle is: {rect}\")"
      ],
      "metadata": {
        "colab": {
          "base_uri": "https://localhost:8080/"
        },
        "id": "caFcR_b5WY1C",
        "outputId": "7c5fd0a9-8fab-4a8f-cb71-1ae47c7d6c94"
      },
      "execution_count": null,
      "outputs": [
        {
          "output_type": "stream",
          "name": "stdout",
          "text": [
            "Enter the length of the rectangle: 5\n",
            "Enter the width of the rectangle: 4\n",
            "The area of the rectangle is: 20.0\n"
          ]
        }
      ]
    },
    {
      "cell_type": "code",
      "source": [
        "def area_of_rectangle(length, width):\n",
        "    # Your code here\n",
        "    pass\n",
        "\n",
        "# Test the function\n"
      ],
      "metadata": {
        "id": "BQS09Q_zJQWe"
      },
      "execution_count": null,
      "outputs": []
    },
    {
      "cell_type": "markdown",
      "source": [
        "Exercise 3: Use a lambda function to sort a list of tuples based on the second element."
      ],
      "metadata": {
        "id": "kV65-_VaJTOM"
      }
    },
    {
      "cell_type": "code",
      "source": [
        "# Sample list of tuples\n",
        "data = [(1, 'apple'), (2, 'banana'), (3, 'cherry')]\n",
        "\n",
        "# Sort the list by the second element in each tuple\n",
        "sorted_data = sorted(data, key=lambda x: x[1])\n",
        "print(\"Sorted list:\", sorted_data)\n"
      ],
      "metadata": {
        "id": "nzxpeI0nJWm0"
      },
      "execution_count": null,
      "outputs": []
    },
    {
      "cell_type": "code",
      "source": [
        "data = [(1, 'banana'), (2, 'apple'), (3, 'cherry')]\n",
        "sorted_data = sorted(data, key=lambda x: x[1])\n",
        "print(sorted_data)"
      ],
      "metadata": {
        "colab": {
          "base_uri": "https://localhost:8080/"
        },
        "id": "Dsv-pV6zX6pz",
        "outputId": "6f69ecb5-dcce-476b-ded6-b69fd007212a"
      },
      "execution_count": null,
      "outputs": [
        {
          "output_type": "stream",
          "name": "stdout",
          "text": [
            "[(2, 'apple'), (1, 'banana'), (3, 'cherry')]\n"
          ]
        }
      ]
    },
    {
      "cell_type": "code",
      "source": [
        "data = [(1, 'cherry'), (2, 'banana'), (3, 'apple')]\n",
        "sorted_data = sorted(data, key=lambda x: x[1])\n",
        "print(sorted_data)"
      ],
      "metadata": {
        "colab": {
          "base_uri": "https://localhost:8080/"
        },
        "id": "miZxpmHMYCjh",
        "outputId": "50799363-3a49-430f-b67a-d633bd595da0"
      },
      "execution_count": null,
      "outputs": [
        {
          "output_type": "stream",
          "name": "stdout",
          "text": [
            "[(3, 'apple'), (2, 'banana'), (1, 'cherry')]\n"
          ]
        }
      ]
    },
    {
      "cell_type": "code",
      "source": [
        "data = [(1, 'cherry'), (2, 'apple'), (3, 'banana')]\n",
        "sort_tup=sorted(data,key=lambda x:x[1])\n",
        "print(sort_tup)\n",
        "#sorted\n",
        "#sum\n"
      ],
      "metadata": {
        "colab": {
          "base_uri": "https://localhost:8080/"
        },
        "id": "swre_lUgYLp5",
        "outputId": "831898df-6093-4e13-ee61-f6765c68ce08"
      },
      "execution_count": null,
      "outputs": [
        {
          "output_type": "stream",
          "name": "stdout",
          "text": [
            "[(2, 'apple'), (3, 'banana'), (1, 'cherry')]\n"
          ]
        }
      ]
    },
    {
      "cell_type": "code",
      "source": [
        "data = [(1, 'cherry'), (2, 'apple'), (3, 'banana')]\n",
        "sort_tup = sorted(data, key=lambda x:x[1])\n",
        "print(sort_tup)"
      ],
      "metadata": {
        "colab": {
          "base_uri": "https://localhost:8080/"
        },
        "id": "ykVDhJp_awhs",
        "outputId": "089f9674-8f0c-4552-df97-e7fb30bbce90"
      },
      "execution_count": null,
      "outputs": [
        {
          "output_type": "stream",
          "name": "stdout",
          "text": [
            "[(2, 'apple'), (3, 'banana'), (1, 'cherry')]\n"
          ]
        }
      ]
    },
    {
      "cell_type": "markdown",
      "source": [
        "# Week 1: Introduction to Python for Data Science\n",
        "\n",
        "---\n",
        "\n",
        "## 5. Basic File Handling\n",
        "\n",
        "**Goal**: Learn to handle basic file operations like reading and writing files.\n",
        "\n",
        "---\n",
        "\n",
        "### Section 1: Opening and Reading Text Files\n",
        "\n",
        "In Colab, you can upload files directly, and we’ll use the `open()` function to read them. Run the cell below to upload a sample file.\n",
        "\n",
        "\n"
      ],
      "metadata": {
        "id": "hp1AqburJg5o"
      }
    },
    {
      "cell_type": "code",
      "source": [
        "# Upload a file to Colab (run this cell and upload 'sample.txt')\n",
        "from google.colab import files\n",
        "uploaded = files.upload()\n",
        "\n",
        "# Read the uploaded file\n",
        "filename = list(uploaded.keys())[0]\n",
        "with open(filename, 'r') as file:\n",
        "    content = file.read()\n",
        "    print(\"File content:\\n\", content)"
      ],
      "metadata": {
        "colab": {
          "base_uri": "https://localhost:8080/",
          "height": 252
        },
        "id": "UmBep6isJz_5",
        "outputId": "5c349118-ee45-40d0-8fc6-c28635f6a1e7"
      },
      "execution_count": null,
      "outputs": [
        {
          "output_type": "display_data",
          "data": {
            "text/plain": [
              "<IPython.core.display.HTML object>"
            ],
            "text/html": [
              "\n",
              "     <input type=\"file\" id=\"files-2a93ac03-0373-449c-828d-8afb7897de43\" name=\"files[]\" multiple disabled\n",
              "        style=\"border:none\" />\n",
              "     <output id=\"result-2a93ac03-0373-449c-828d-8afb7897de43\">\n",
              "      Upload widget is only available when the cell has been executed in the\n",
              "      current browser session. Please rerun this cell to enable.\n",
              "      </output>\n",
              "      <script>// Copyright 2017 Google LLC\n",
              "//\n",
              "// Licensed under the Apache License, Version 2.0 (the \"License\");\n",
              "// you may not use this file except in compliance with the License.\n",
              "// You may obtain a copy of the License at\n",
              "//\n",
              "//      http://www.apache.org/licenses/LICENSE-2.0\n",
              "//\n",
              "// Unless required by applicable law or agreed to in writing, software\n",
              "// distributed under the License is distributed on an \"AS IS\" BASIS,\n",
              "// WITHOUT WARRANTIES OR CONDITIONS OF ANY KIND, either express or implied.\n",
              "// See the License for the specific language governing permissions and\n",
              "// limitations under the License.\n",
              "\n",
              "/**\n",
              " * @fileoverview Helpers for google.colab Python module.\n",
              " */\n",
              "(function(scope) {\n",
              "function span(text, styleAttributes = {}) {\n",
              "  const element = document.createElement('span');\n",
              "  element.textContent = text;\n",
              "  for (const key of Object.keys(styleAttributes)) {\n",
              "    element.style[key] = styleAttributes[key];\n",
              "  }\n",
              "  return element;\n",
              "}\n",
              "\n",
              "// Max number of bytes which will be uploaded at a time.\n",
              "const MAX_PAYLOAD_SIZE = 100 * 1024;\n",
              "\n",
              "function _uploadFiles(inputId, outputId) {\n",
              "  const steps = uploadFilesStep(inputId, outputId);\n",
              "  const outputElement = document.getElementById(outputId);\n",
              "  // Cache steps on the outputElement to make it available for the next call\n",
              "  // to uploadFilesContinue from Python.\n",
              "  outputElement.steps = steps;\n",
              "\n",
              "  return _uploadFilesContinue(outputId);\n",
              "}\n",
              "\n",
              "// This is roughly an async generator (not supported in the browser yet),\n",
              "// where there are multiple asynchronous steps and the Python side is going\n",
              "// to poll for completion of each step.\n",
              "// This uses a Promise to block the python side on completion of each step,\n",
              "// then passes the result of the previous step as the input to the next step.\n",
              "function _uploadFilesContinue(outputId) {\n",
              "  const outputElement = document.getElementById(outputId);\n",
              "  const steps = outputElement.steps;\n",
              "\n",
              "  const next = steps.next(outputElement.lastPromiseValue);\n",
              "  return Promise.resolve(next.value.promise).then((value) => {\n",
              "    // Cache the last promise value to make it available to the next\n",
              "    // step of the generator.\n",
              "    outputElement.lastPromiseValue = value;\n",
              "    return next.value.response;\n",
              "  });\n",
              "}\n",
              "\n",
              "/**\n",
              " * Generator function which is called between each async step of the upload\n",
              " * process.\n",
              " * @param {string} inputId Element ID of the input file picker element.\n",
              " * @param {string} outputId Element ID of the output display.\n",
              " * @return {!Iterable<!Object>} Iterable of next steps.\n",
              " */\n",
              "function* uploadFilesStep(inputId, outputId) {\n",
              "  const inputElement = document.getElementById(inputId);\n",
              "  inputElement.disabled = false;\n",
              "\n",
              "  const outputElement = document.getElementById(outputId);\n",
              "  outputElement.innerHTML = '';\n",
              "\n",
              "  const pickedPromise = new Promise((resolve) => {\n",
              "    inputElement.addEventListener('change', (e) => {\n",
              "      resolve(e.target.files);\n",
              "    });\n",
              "  });\n",
              "\n",
              "  const cancel = document.createElement('button');\n",
              "  inputElement.parentElement.appendChild(cancel);\n",
              "  cancel.textContent = 'Cancel upload';\n",
              "  const cancelPromise = new Promise((resolve) => {\n",
              "    cancel.onclick = () => {\n",
              "      resolve(null);\n",
              "    };\n",
              "  });\n",
              "\n",
              "  // Wait for the user to pick the files.\n",
              "  const files = yield {\n",
              "    promise: Promise.race([pickedPromise, cancelPromise]),\n",
              "    response: {\n",
              "      action: 'starting',\n",
              "    }\n",
              "  };\n",
              "\n",
              "  cancel.remove();\n",
              "\n",
              "  // Disable the input element since further picks are not allowed.\n",
              "  inputElement.disabled = true;\n",
              "\n",
              "  if (!files) {\n",
              "    return {\n",
              "      response: {\n",
              "        action: 'complete',\n",
              "      }\n",
              "    };\n",
              "  }\n",
              "\n",
              "  for (const file of files) {\n",
              "    const li = document.createElement('li');\n",
              "    li.append(span(file.name, {fontWeight: 'bold'}));\n",
              "    li.append(span(\n",
              "        `(${file.type || 'n/a'}) - ${file.size} bytes, ` +\n",
              "        `last modified: ${\n",
              "            file.lastModifiedDate ? file.lastModifiedDate.toLocaleDateString() :\n",
              "                                    'n/a'} - `));\n",
              "    const percent = span('0% done');\n",
              "    li.appendChild(percent);\n",
              "\n",
              "    outputElement.appendChild(li);\n",
              "\n",
              "    const fileDataPromise = new Promise((resolve) => {\n",
              "      const reader = new FileReader();\n",
              "      reader.onload = (e) => {\n",
              "        resolve(e.target.result);\n",
              "      };\n",
              "      reader.readAsArrayBuffer(file);\n",
              "    });\n",
              "    // Wait for the data to be ready.\n",
              "    let fileData = yield {\n",
              "      promise: fileDataPromise,\n",
              "      response: {\n",
              "        action: 'continue',\n",
              "      }\n",
              "    };\n",
              "\n",
              "    // Use a chunked sending to avoid message size limits. See b/62115660.\n",
              "    let position = 0;\n",
              "    do {\n",
              "      const length = Math.min(fileData.byteLength - position, MAX_PAYLOAD_SIZE);\n",
              "      const chunk = new Uint8Array(fileData, position, length);\n",
              "      position += length;\n",
              "\n",
              "      const base64 = btoa(String.fromCharCode.apply(null, chunk));\n",
              "      yield {\n",
              "        response: {\n",
              "          action: 'append',\n",
              "          file: file.name,\n",
              "          data: base64,\n",
              "        },\n",
              "      };\n",
              "\n",
              "      let percentDone = fileData.byteLength === 0 ?\n",
              "          100 :\n",
              "          Math.round((position / fileData.byteLength) * 100);\n",
              "      percent.textContent = `${percentDone}% done`;\n",
              "\n",
              "    } while (position < fileData.byteLength);\n",
              "  }\n",
              "\n",
              "  // All done.\n",
              "  yield {\n",
              "    response: {\n",
              "      action: 'complete',\n",
              "    }\n",
              "  };\n",
              "}\n",
              "\n",
              "scope.google = scope.google || {};\n",
              "scope.google.colab = scope.google.colab || {};\n",
              "scope.google.colab._files = {\n",
              "  _uploadFiles,\n",
              "  _uploadFilesContinue,\n",
              "};\n",
              "})(self);\n",
              "</script> "
            ]
          },
          "metadata": {}
        },
        {
          "output_type": "stream",
          "name": "stdout",
          "text": [
            "Saving sample.txt to sample (1).txt\n",
            "File content:\n",
            " Lorem ipsum dolor sit amet,\n",
            " consectetur adipiscing elit.\n",
            " Donec vel egestas dolor,\n",
            " nec dignissim metus.\n",
            " Donec augue elit, \n",
            "rhoncus ac sodales id, porttitor vitae est.\n",
            " Donec laoreet rutrum libero sed pharetra.\n",
            "\n",
            "\n"
          ]
        }
      ]
    },
    {
      "cell_type": "code",
      "source": [],
      "metadata": {
        "id": "T7q95Y2fdQFq"
      },
      "execution_count": null,
      "outputs": []
    },
    {
      "cell_type": "markdown",
      "source": [
        "Section 2: Writing to Files\n",
        "You can write data to a new file and download it after it’s created."
      ],
      "metadata": {
        "id": "qr3s7i3HKHAQ"
      }
    },
    {
      "cell_type": "code",
      "source": [
        "# Writing data to a new file in Colab\n",
        "data = \"This is some sample text for writing.\"\n",
        "\n",
        "with open('output.txt', 'w') as file:\n",
        "    file.write(data)\n",
        "\n",
        "# Download the file\n",
        "files.download('output.txt')\n"
      ],
      "metadata": {
        "id": "dL30L85cKOm1",
        "colab": {
          "base_uri": "https://localhost:8080/",
          "height": 17
        },
        "outputId": "8d9c6b05-3408-4fd8-8908-16498d4f6a1b"
      },
      "execution_count": null,
      "outputs": [
        {
          "output_type": "display_data",
          "data": {
            "text/plain": [
              "<IPython.core.display.Javascript object>"
            ],
            "application/javascript": [
              "\n",
              "    async function download(id, filename, size) {\n",
              "      if (!google.colab.kernel.accessAllowed) {\n",
              "        return;\n",
              "      }\n",
              "      const div = document.createElement('div');\n",
              "      const label = document.createElement('label');\n",
              "      label.textContent = `Downloading \"${filename}\": `;\n",
              "      div.appendChild(label);\n",
              "      const progress = document.createElement('progress');\n",
              "      progress.max = size;\n",
              "      div.appendChild(progress);\n",
              "      document.body.appendChild(div);\n",
              "\n",
              "      const buffers = [];\n",
              "      let downloaded = 0;\n",
              "\n",
              "      const channel = await google.colab.kernel.comms.open(id);\n",
              "      // Send a message to notify the kernel that we're ready.\n",
              "      channel.send({})\n",
              "\n",
              "      for await (const message of channel.messages) {\n",
              "        // Send a message to notify the kernel that we're ready.\n",
              "        channel.send({})\n",
              "        if (message.buffers) {\n",
              "          for (const buffer of message.buffers) {\n",
              "            buffers.push(buffer);\n",
              "            downloaded += buffer.byteLength;\n",
              "            progress.value = downloaded;\n",
              "          }\n",
              "        }\n",
              "      }\n",
              "      const blob = new Blob(buffers, {type: 'application/binary'});\n",
              "      const a = document.createElement('a');\n",
              "      a.href = window.URL.createObjectURL(blob);\n",
              "      a.download = filename;\n",
              "      div.appendChild(a);\n",
              "      a.click();\n",
              "      div.remove();\n",
              "    }\n",
              "  "
            ]
          },
          "metadata": {}
        },
        {
          "output_type": "display_data",
          "data": {
            "text/plain": [
              "<IPython.core.display.Javascript object>"
            ],
            "application/javascript": [
              "download(\"download_3b890efe-d558-4f04-9235-1218285455c5\", \"output.txt\", 37)"
            ]
          },
          "metadata": {}
        }
      ]
    },
    {
      "cell_type": "markdown",
      "source": [
        "Section 3: Reading a File Line-by-Line\n",
        "For analyzing text data line by line, here’s an example to read a file line-by-line."
      ],
      "metadata": {
        "id": "A-Qqsy8gKR-O"
      }
    },
    {
      "cell_type": "code",
      "source": [
        "# sahil,22,BE, IT,ME\n",
        "# Yash,22,BE, COMP,JOB\n"
      ],
      "metadata": {
        "id": "N9kyb22Ihjkl"
      },
      "execution_count": null,
      "outputs": []
    },
    {
      "cell_type": "code",
      "source": [
        "# Reading a file line-by-line\n",
        "with open(filename, 'r') as file:\n",
        "    for line in file:\n",
        "\n",
        "        print(\"-------------------------------\")\n",
        "        print(line.strip())\n"
      ],
      "metadata": {
        "id": "6BKNGaCQKUjD",
        "colab": {
          "base_uri": "https://localhost:8080/"
        },
        "outputId": "79b7877d-704a-4994-ef85-2434e6fb2d31"
      },
      "execution_count": null,
      "outputs": [
        {
          "output_type": "stream",
          "name": "stdout",
          "text": [
            "-------------------------------\n",
            "Lorem ipsum dolor sit amet,\n",
            "-------------------------------\n",
            "consectetur adipiscing elit.\n",
            "-------------------------------\n",
            "Donec vel egestas dolor,\n",
            "-------------------------------\n",
            "nec dignissim metus.\n",
            "-------------------------------\n",
            "Donec augue elit,\n",
            "-------------------------------\n",
            "rhoncus ac sodales id, porttitor vitae est.\n",
            "-------------------------------\n",
            "Donec laoreet rutrum libero sed pharetra.\n",
            "-------------------------------\n",
            "\n"
          ]
        }
      ]
    },
    {
      "cell_type": "markdown",
      "source": [
        "Section 4: Working with File Paths\n",
        "In Colab, you can check the current working directory or verify if files exist."
      ],
      "metadata": {
        "id": "TykDb31DKYYS"
      }
    },
    {
      "cell_type": "code",
      "source": [
        "import os\n",
        "\n",
        "# Check current directory and if 'sample.txt' exists\n",
        "print(\"Current Directory:\", os.getcwd())\n",
        "print(\"Does 'sample.txt' exist?\", os.path.exists(filename))\n"
      ],
      "metadata": {
        "id": "T2H37NtfKcEV",
        "colab": {
          "base_uri": "https://localhost:8080/"
        },
        "outputId": "835e4122-ae8b-48df-a94b-084210a19d08"
      },
      "execution_count": null,
      "outputs": [
        {
          "output_type": "stream",
          "name": "stdout",
          "text": [
            "Current Directory: /content\n",
            "Does 'sample.txt' exist? True\n"
          ]
        }
      ]
    },
    {
      "cell_type": "markdown",
      "source": [
        "Practice Exercises\n",
        "Exercise 1: Write a program to read a file and count the occurrences of each word."
      ],
      "metadata": {
        "id": "v3jh3UNvKfD-"
      }
    },
    {
      "cell_type": "code",
      "source": [
        "from collections import Counter\n",
        "with open(filename, 'r') as file:\n",
        "    content = file.read()\n",
        "    words = content.split()\n",
        "    word_count = Counter(words)\n",
        "print(word_count)"
      ],
      "metadata": {
        "colab": {
          "base_uri": "https://localhost:8080/"
        },
        "id": "_Zx035MpktCN",
        "outputId": "12c0c561-66ac-43d2-e359-60461480b486"
      },
      "execution_count": null,
      "outputs": [
        {
          "output_type": "stream",
          "name": "stdout",
          "text": [
            "Counter({'Donec': 3, 'Lorem': 1, 'ipsum': 1, 'dolor': 1, 'sit': 1, 'amet,': 1, 'consectetur': 1, 'adipiscing': 1, 'elit.': 1, 'vel': 1, 'egestas': 1, 'dolor,': 1, 'nec': 1, 'dignissim': 1, 'metus.': 1, 'augue': 1, 'elit,': 1, 'rhoncus': 1, 'ac': 1, 'sodales': 1, 'id,': 1, 'porttitor': 1, 'vitae': 1, 'est.': 1, 'laoreet': 1, 'rutrum': 1, 'libero': 1, 'sed': 1, 'pharetra.': 1})\n"
          ]
        }
      ]
    },
    {
      "cell_type": "markdown",
      "source": [
        "split()\n",
        "\n",
        "as the name suggest is divide string to list\n",
        "no arg-> blank to split  a string\n",
        "split(',')\n",
        "everywhere it see a , it will split\n",
        "\n",
        "strip()\n",
        "remove\n",
        ",!"
      ],
      "metadata": {
        "id": "anJyvs60lbsR"
      }
    },
    {
      "cell_type": "markdown",
      "source": [
        "I like python. I also like ML\n",
        "\n",
        "word [I]= word_count.get(I,0)+1"
      ],
      "metadata": {
        "id": "E0WLixsEmfmT"
      }
    },
    {
      "cell_type": "code",
      "source": [
        "def count_word_occurrences(filename):\n",
        "    word_count = {}\n",
        "    # Key -> I\n",
        "    # Value-> 1+1=2\n",
        "    with open(filename, 'r') as file:\n",
        "        for line in file:\n",
        "            words = line.split()#Lorem ipsum dolor sit amet, -> ['Lorem','ipsum']\n",
        "            for word in words:\n",
        "                word = word.lower().strip(\".,!?;\")\n",
        "                word_count[word] = word_count.get(word, 0) + 1#1+1=2\n",
        "    return word_count\n",
        "{}\n",
        "{I:2, like:2 python:1,also:1,ML:1}\n",
        "\n",
        "# Test the function\n",
        "print(count_word_occurrences(filename))\n"
      ],
      "metadata": {
        "id": "cBq67q3SKiTl",
        "colab": {
          "base_uri": "https://localhost:8080/"
        },
        "outputId": "1a27496b-91a0-445a-a556-a6afefaba878"
      },
      "execution_count": null,
      "outputs": [
        {
          "output_type": "stream",
          "name": "stdout",
          "text": [
            "{'lorem': 1, 'ipsum': 1, 'dolor': 2, 'sit': 1, 'amet': 1, 'consectetur': 1, 'adipiscing': 1, 'elit': 2, 'donec': 3, 'vel': 1, 'egestas': 1, 'nec': 1, 'dignissim': 1, 'metus': 1, 'augue': 1, 'rhoncus': 1, 'ac': 1, 'sodales': 1, 'id': 1, 'porttitor': 1, 'vitae': 1, 'est': 1, 'laoreet': 1, 'rutrum': 1, 'libero': 1, 'sed': 1, 'pharetra': 1}\n"
          ]
        }
      ]
    },
    {
      "cell_type": "markdown",
      "source": [
        "Exercise 2: Create a function that writes a list of data to a file.\n",
        "\n",
        "---\n",
        "\n"
      ],
      "metadata": {
        "id": "8udTneUMKla2"
      }
    },
    {
      "cell_type": "code",
      "source": [
        "def write_list_to_file(data_list, filename):\n",
        "    with open(filename, 'w') as file:\n",
        "        for item in data_list:\n",
        "            file.write(f\"{item}\\n\")\n",
        "    files.download(filename)\n",
        "\n",
        "# Test the function\n",
        "write_list_to_file([\"apple\", \"banana\", \"cherry\"], 'fruits.txt')\n"
      ],
      "metadata": {
        "id": "g-rvRVXSKmNR"
      },
      "execution_count": null,
      "outputs": []
    },
    {
      "cell_type": "markdown",
      "source": [
        "# Week 1: Introduction to Python for Data Science\n",
        "\n",
        "---\n",
        "\n",
        "## 6. Final Project Exercise: Text File Analysis\n",
        "\n",
        "**Goal**: Apply what you’ve learned by writing a script to analyze a text file.\n",
        "\n",
        "---\n",
        "\n",
        "### Project Overview\n",
        "\n",
        "**Objective**: Create a script to analyze a text file. Your script should:\n",
        "1. Read the file and display:\n",
        "   - Total word count\n",
        "   - Unique word count\n",
        "   - Frequency of each word\n",
        "2. Write the results to a new output file.\n",
        "\n",
        "---\n",
        "\n",
        "### Step 1: Upload a Text File\n",
        "\n",
        "First, upload the text file you want to analyze (for example, `sample.txt`).\n",
        "\n"
      ],
      "metadata": {
        "id": "dYPILGIYjsa8"
      }
    },
    {
      "cell_type": "code",
      "source": [],
      "metadata": {
        "id": "h2ajZz8ljsGF"
      },
      "execution_count": null,
      "outputs": []
    },
    {
      "cell_type": "markdown",
      "source": [
        "Step 2: Read and Analyze the File\n",
        "Define a function to calculate the total word count, unique word count, and word frequencies."
      ],
      "metadata": {
        "id": "6zNWYpnUkItd"
      }
    },
    {
      "cell_type": "code",
      "source": [],
      "metadata": {
        "id": "1k3UOFx6kIWm"
      },
      "execution_count": null,
      "outputs": []
    },
    {
      "cell_type": "markdown",
      "source": [
        "Step 3: Write the Analysis Results to an Output File\n",
        "Create a function to save the analysis results to a new file, then download the file."
      ],
      "metadata": {
        "id": "Y5cNf44xkAZd"
      }
    },
    {
      "cell_type": "code",
      "source": [],
      "metadata": {
        "id": "mKH_vwGlkBEv"
      },
      "execution_count": null,
      "outputs": []
    }
  ]
}